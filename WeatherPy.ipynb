{
 "cells": [
  {
   "cell_type": "markdown",
   "metadata": {},
   "source": [
    "# WeatherPy\n",
    "----\n",
    "\n",
    "#### Note\n",
    "* Instructions have been included for each segment. You do not have to follow them exactly, but they are included to help you think through the steps."
   ]
  },
  {
   "cell_type": "code",
   "execution_count": 30,
   "metadata": {
    "scrolled": true
   },
   "outputs": [],
   "source": [
    "# Dependencies and Setup\n",
    "import matplotlib.pyplot as plt\n",
    "import pandas as pd\n",
    "import numpy as np\n",
    "import requests\n",
    "import time\n",
    "import scipy.stats as st\n",
    "from scipy.stats import linregress\n",
    "from pprint import pprint\n",
    "\n",
    "# Import API key\n",
    "from api_keys import weather_api_key\n",
    "\n",
    "# Incorporated citipy to determine city based on latitude and longitude\n",
    "from citipy import citipy\n",
    "\n",
    "# Output File (CSV)\n",
    "output_data_file = \"output_data/cities.csv\"\n",
    "\n",
    "# Range of latitudes and longitudes\n",
    "lat_range = (-90, 90)\n",
    "lng_range = (-180, 180)"
   ]
  },
  {
   "cell_type": "markdown",
   "metadata": {},
   "source": [
    "## Generate Cities List"
   ]
  },
  {
   "cell_type": "code",
   "execution_count": 2,
   "metadata": {},
   "outputs": [
    {
     "data": {
      "text/plain": [
       "633"
      ]
     },
     "execution_count": 2,
     "metadata": {},
     "output_type": "execute_result"
    }
   ],
   "source": [
    "# List for holding lat_lngs and cities\n",
    "lat_lngs = []\n",
    "cities = []\n",
    "\n",
    "# Create a set of random lat and lng combinations\n",
    "lats = np.random.uniform(lat_range[0], lat_range[1], size=1500)\n",
    "lngs = np.random.uniform(lng_range[0], lng_range[1], size=1500)\n",
    "lat_lngs = zip(lats, lngs)\n",
    "\n",
    "# Identify nearest city for each lat, lng combination\n",
    "for lat_lng in lat_lngs:\n",
    "    city = citipy.nearest_city(lat_lng[0], lat_lng[1]).city_name\n",
    "    \n",
    "    # If the city is unique, then add it to a our cities list\n",
    "    if city not in cities:\n",
    "        cities.append(city)\n",
    "\n",
    "# Print the city count to confirm sufficient count\n",
    "len(cities)"
   ]
  },
  {
   "cell_type": "markdown",
   "metadata": {},
   "source": [
    "### Perform API Calls\n",
    "* Perform a weather check on each city using a series of successive API calls.\n",
    "* Include a print log of each city as it'sbeing processed (with the city number and city name).\n"
   ]
  },
  {
   "cell_type": "code",
   "execution_count": 4,
   "metadata": {},
   "outputs": [
    {
     "name": "stdout",
     "output_type": "stream",
     "text": [
      "Beginning Data Retrieval\n",
      "------------------------\n",
      "Processing Record 0 of Set 1 | chuy\n",
      "Processing Record 1 of Set 1 | jawa\n",
      "Processing Record 2 of Set 1 | tilichiki\n",
      "Processing Record 3 of Set 1 | longyearbyen\n",
      "Processing Record 4 of Set 1 | gold coast\n",
      "Processing Record 5 of Set 1 | saint-philippe\n",
      "Processing Record 6 of Set 1 | pimentel\n",
      "Processing Record 7 of Set 1 | busselton\n",
      "Processing Record 8 of Set 1 | trinidad\n",
      "Processing Record 9 of Set 1 | punta arenas\n",
      "Processing Record 10 of Set 1 | jamestown\n",
      "Processing Record 11 of Set 1 | avarua\n",
      "Processing Record 12 of Set 1 | quelimane\n",
      "Processing Record 13 of Set 1 | boras\n",
      "City not found - skipping.\n",
      "Processing Record 14 of Set 1 | lata\n",
      "Processing Record 15 of Set 1 | khatanga\n",
      "Processing Record 16 of Set 1 | fougamou\n",
      "Processing Record 17 of Set 1 | vila franca do campo\n",
      "Processing Record 18 of Set 1 | ekibastuz\n",
      "City not found - skipping.\n",
      "Processing Record 19 of Set 1 | east london\n",
      "Processing Record 20 of Set 1 | bardsir\n",
      "Processing Record 21 of Set 1 | victoria\n",
      "Processing Record 22 of Set 1 | churapcha\n",
      "Processing Record 23 of Set 1 | rundu\n",
      "Processing Record 24 of Set 1 | tsabong\n",
      "Processing Record 25 of Set 1 | athabasca\n",
      "Processing Record 26 of Set 1 | whitianga\n",
      "Processing Record 27 of Set 1 | baruun-urt\n",
      "Processing Record 28 of Set 1 | cairns\n",
      "Processing Record 29 of Set 1 | sitka\n",
      "Processing Record 30 of Set 1 | yellowknife\n",
      "Processing Record 31 of Set 1 | spas-klepiki\n",
      "Processing Record 32 of Set 1 | mataura\n",
      "Processing Record 33 of Set 1 | hermanus\n",
      "Processing Record 34 of Set 1 | vestmanna\n",
      "Processing Record 35 of Set 1 | bandarbeyla\n",
      "Processing Record 36 of Set 1 | kapaa\n",
      "Processing Record 37 of Set 1 | albany\n",
      "Processing Record 38 of Set 1 | yenagoa\n",
      "Processing Record 39 of Set 1 | barrow\n",
      "Processing Record 40 of Set 1 | marzuq\n",
      "Processing Record 41 of Set 1 | kishanganj\n",
      "Processing Record 42 of Set 1 | butaritari\n",
      "Processing Record 43 of Set 1 | peterhead\n",
      "Processing Record 44 of Set 1 | ushuaia\n",
      "Processing Record 45 of Set 1 | kumbo\n",
      "Processing Record 46 of Set 1 | daru\n",
      "Processing Record 47 of Set 1 | calabozo\n",
      "Processing Record 48 of Set 1 | fortuna\n",
      "Processing Record 49 of Set 1 | les cayes\n",
      "Processing Record 50 of Set 1 | dikson\n",
      "Processing Record 0 of Set 2 | port alfred\n",
      "Processing Record 1 of Set 2 | turbat\n",
      "Processing Record 2 of Set 2 | atuona\n",
      "Processing Record 3 of Set 2 | lebu\n",
      "City not found - skipping.\n",
      "Processing Record 4 of Set 2 | cidreira\n",
      "Processing Record 5 of Set 2 | lompoc\n",
      "Processing Record 6 of Set 2 | nikolskoye\n",
      "Processing Record 7 of Set 2 | rikitea\n",
      "Processing Record 8 of Set 2 | provideniya\n",
      "Processing Record 9 of Set 2 | alice\n",
      "Processing Record 10 of Set 2 | raudeberg\n",
      "Processing Record 11 of Set 2 | cape town\n",
      "Processing Record 12 of Set 2 | saskylakh\n",
      "Processing Record 13 of Set 2 | molokovo\n",
      "Processing Record 14 of Set 2 | bathsheba\n",
      "City not found - skipping.\n",
      "Processing Record 15 of Set 2 | mitsamiouli\n",
      "Processing Record 16 of Set 2 | pevek\n",
      "Processing Record 17 of Set 2 | hilo\n",
      "Processing Record 18 of Set 2 | tuatapere\n",
      "Processing Record 19 of Set 2 | sept-iles\n",
      "Processing Record 20 of Set 2 | aloleng\n",
      "Processing Record 21 of Set 2 | diamantino\n",
      "Processing Record 22 of Set 2 | sal rei\n",
      "Processing Record 23 of Set 2 | saint-augustin\n",
      "City not found - skipping.\n",
      "Processing Record 24 of Set 2 | tazovskiy\n",
      "Processing Record 25 of Set 2 | okhotsk\n",
      "Processing Record 26 of Set 2 | rawson\n",
      "Processing Record 27 of Set 2 | tasiilaq\n",
      "Processing Record 28 of Set 2 | bredasdorp\n",
      "City not found - skipping.\n",
      "Processing Record 29 of Set 2 | pitimbu\n",
      "Processing Record 30 of Set 2 | touros\n",
      "Processing Record 31 of Set 2 | hithadhoo\n",
      "City not found - skipping.\n",
      "Processing Record 32 of Set 2 | usinsk\n",
      "Processing Record 33 of Set 2 | guerrero negro\n",
      "Processing Record 34 of Set 2 | husavik\n",
      "Processing Record 35 of Set 2 | dinagat\n",
      "Processing Record 36 of Set 2 | castro\n",
      "Processing Record 37 of Set 2 | bluff\n",
      "Processing Record 38 of Set 2 | henties bay\n",
      "Processing Record 39 of Set 2 | ribeira grande\n",
      "Processing Record 40 of Set 2 | bubaque\n",
      "Processing Record 41 of Set 2 | mount isa\n",
      "Processing Record 42 of Set 2 | yabrud\n",
      "Processing Record 43 of Set 2 | ashqelon\n",
      "Processing Record 44 of Set 2 | constitucion\n",
      "Processing Record 45 of Set 2 | hobart\n",
      "Processing Record 46 of Set 2 | dingle\n",
      "Processing Record 47 of Set 2 | vila\n",
      "Processing Record 48 of Set 2 | terme\n",
      "Processing Record 49 of Set 2 | kamaishi\n",
      "Processing Record 50 of Set 2 | troy\n",
      "Processing Record 0 of Set 3 | prince rupert\n",
      "Processing Record 1 of Set 3 | la paz\n",
      "Processing Record 2 of Set 3 | sena madureira\n",
      "Processing Record 3 of Set 3 | san felipe\n",
      "Processing Record 4 of Set 3 | hargeysa\n",
      "Processing Record 5 of Set 3 | mogadishu\n",
      "Processing Record 6 of Set 3 | san rafael del sur\n",
      "Processing Record 7 of Set 3 | bilma\n",
      "City not found - skipping.\n",
      "Processing Record 8 of Set 3 | college\n",
      "Processing Record 9 of Set 3 | hofn\n",
      "Processing Record 10 of Set 3 | kutum\n",
      "Processing Record 11 of Set 3 | makakilo city\n",
      "Processing Record 12 of Set 3 | romny\n",
      "Processing Record 13 of Set 3 | selje\n",
      "Processing Record 14 of Set 3 | ouango\n",
      "Processing Record 15 of Set 3 | mount gambier\n",
      "City not found - skipping.\n",
      "Processing Record 16 of Set 3 | bethel\n",
      "Processing Record 17 of Set 3 | westport\n",
      "City not found - skipping.\n",
      "Processing Record 18 of Set 3 | margate\n",
      "Processing Record 19 of Set 3 | vaini\n",
      "Processing Record 20 of Set 3 | codrington\n",
      "Processing Record 21 of Set 3 | staraya poltavka\n",
      "Processing Record 22 of Set 3 | tiksi\n",
      "Processing Record 23 of Set 3 | namatanai\n",
      "Processing Record 24 of Set 3 | bumba\n",
      "Processing Record 25 of Set 3 | adre\n",
      "Processing Record 26 of Set 3 | chuguyevka\n",
      "Processing Record 27 of Set 3 | tehachapi\n",
      "Processing Record 28 of Set 3 | sedro-woolley\n",
      "Processing Record 29 of Set 3 | medea\n",
      "Processing Record 30 of Set 3 | kirakira\n",
      "Processing Record 31 of Set 3 | bonthe\n",
      "Processing Record 32 of Set 3 | juneau\n",
      "Processing Record 33 of Set 3 | upernavik\n",
      "Processing Record 34 of Set 3 | cabo san lucas\n",
      "Processing Record 35 of Set 3 | geraldton\n",
      "Processing Record 36 of Set 3 | port elizabeth\n",
      "Processing Record 37 of Set 3 | airai\n",
      "Processing Record 38 of Set 3 | beringovskiy\n",
      "Processing Record 39 of Set 3 | balsas\n",
      "Processing Record 40 of Set 3 | pesochnoye\n",
      "Processing Record 41 of Set 3 | baie-comeau\n",
      "Processing Record 42 of Set 3 | atakpame\n",
      "Processing Record 43 of Set 3 | yichang\n",
      "Processing Record 44 of Set 3 | pingliang\n",
      "Processing Record 45 of Set 3 | altea\n",
      "Processing Record 46 of Set 3 | buraydah\n",
      "Processing Record 47 of Set 3 | new norfolk\n",
      "Processing Record 48 of Set 3 | cherskiy\n",
      "Processing Record 49 of Set 3 | orlik\n",
      "Processing Record 50 of Set 3 | severo-kurilsk\n",
      "Processing Record 0 of Set 4 | luzhou\n",
      "Processing Record 1 of Set 4 | dingzhou\n",
      "Processing Record 2 of Set 4 | bengkulu\n",
      "Processing Record 3 of Set 4 | luau\n",
      "Processing Record 4 of Set 4 | mar del plata\n",
      "City not found - skipping.\n",
      "Processing Record 5 of Set 4 | birao\n",
      "Processing Record 6 of Set 4 | pisco\n",
      "Processing Record 7 of Set 4 | ancud\n",
      "Processing Record 8 of Set 4 | kautokeino\n",
      "Processing Record 9 of Set 4 | georgetown\n",
      "Processing Record 10 of Set 4 | rosario do sul\n",
      "Processing Record 11 of Set 4 | acapulco\n",
      "Processing Record 12 of Set 4 | adrar\n",
      "Processing Record 13 of Set 4 | madinat sittah uktubar\n",
      "Processing Record 14 of Set 4 | boa vista\n",
      "City not found - skipping.\n",
      "Processing Record 15 of Set 4 | laramie\n",
      "Processing Record 16 of Set 4 | matagami\n",
      "Processing Record 17 of Set 4 | lumphat\n",
      "Processing Record 18 of Set 4 | lorengau\n",
      "Processing Record 19 of Set 4 | sao jose da coroa grande\n",
      "Processing Record 20 of Set 4 | kieta\n",
      "Processing Record 21 of Set 4 | tual\n",
      "Processing Record 22 of Set 4 | balaghat\n",
      "Processing Record 23 of Set 4 | chokurdakh\n",
      "Processing Record 24 of Set 4 | badnawar\n",
      "Processing Record 25 of Set 4 | san pedro\n",
      "Processing Record 26 of Set 4 | karasjok\n",
      "Processing Record 27 of Set 4 | lockhart\n",
      "Processing Record 28 of Set 4 | ternate\n",
      "Processing Record 29 of Set 4 | saldanha\n",
      "Processing Record 30 of Set 4 | kashi\n",
      "Processing Record 31 of Set 4 | yulara\n",
      "Processing Record 32 of Set 4 | vestmannaeyjar\n",
      "Processing Record 33 of Set 4 | kaitangata\n",
      "Processing Record 34 of Set 4 | penaflor\n",
      "Processing Record 35 of Set 4 | talnakh\n",
      "Processing Record 36 of Set 4 | norman wells\n",
      "City not found - skipping.\n"
     ]
    },
    {
     "name": "stdout",
     "output_type": "stream",
     "text": [
      "Processing Record 37 of Set 4 | udachnyy\n",
      "Processing Record 38 of Set 4 | lamar\n",
      "Processing Record 39 of Set 4 | manaure\n",
      "Processing Record 40 of Set 4 | beloha\n",
      "Processing Record 41 of Set 4 | zalesovo\n",
      "Processing Record 42 of Set 4 | umba\n",
      "Processing Record 43 of Set 4 | chester\n",
      "Processing Record 44 of Set 4 | katsuura\n",
      "Processing Record 45 of Set 4 | katangli\n",
      "Processing Record 46 of Set 4 | srednekolymsk\n",
      "Processing Record 47 of Set 4 | caravelas\n",
      "Processing Record 48 of Set 4 | atar\n",
      "Processing Record 49 of Set 4 | nemuro\n",
      "Processing Record 50 of Set 4 | mmabatho\n",
      "Processing Record 0 of Set 5 | alyangula\n",
      "Processing Record 1 of Set 5 | tomatlan\n",
      "Processing Record 2 of Set 5 | abha\n",
      "Processing Record 3 of Set 5 | viedma\n",
      "Processing Record 4 of Set 5 | panzhihua\n",
      "Processing Record 5 of Set 5 | pilar\n",
      "Processing Record 6 of Set 5 | lavrentiya\n",
      "Processing Record 7 of Set 5 | souillac\n",
      "Processing Record 8 of Set 5 | beyneu\n",
      "Processing Record 9 of Set 5 | la ronge\n",
      "Processing Record 10 of Set 5 | ilulissat\n",
      "Processing Record 11 of Set 5 | svidnik\n",
      "Processing Record 12 of Set 5 | bardiyah\n",
      "Processing Record 13 of Set 5 | carnarvon\n",
      "Processing Record 14 of Set 5 | atambua\n",
      "Processing Record 15 of Set 5 | spencer\n",
      "Processing Record 16 of Set 5 | ukiah\n",
      "Processing Record 17 of Set 5 | korgen\n",
      "Processing Record 18 of Set 5 | asfi\n",
      "Processing Record 19 of Set 5 | popova\n",
      "Processing Record 20 of Set 5 | puerto ayora\n",
      "City not found - skipping.\n",
      "Processing Record 21 of Set 5 | kodiak\n",
      "Processing Record 22 of Set 5 | coolum beach\n",
      "Processing Record 23 of Set 5 | galway\n",
      "City not found - skipping.\n",
      "Processing Record 24 of Set 5 | pacific grove\n",
      "Processing Record 25 of Set 5 | khor\n",
      "Processing Record 26 of Set 5 | carmen\n",
      "Processing Record 27 of Set 5 | san patricio\n",
      "Processing Record 28 of Set 5 | nichinan\n",
      "Processing Record 29 of Set 5 | kaseda\n",
      "Processing Record 30 of Set 5 | dapaong\n",
      "Processing Record 31 of Set 5 | arraial do cabo\n",
      "Processing Record 32 of Set 5 | kholmogory\n",
      "Processing Record 33 of Set 5 | amboasary\n",
      "Processing Record 34 of Set 5 | talcahuano\n",
      "City not found - skipping.\n",
      "Processing Record 35 of Set 5 | san policarpo\n",
      "Processing Record 36 of Set 5 | ostrovnoy\n",
      "Processing Record 37 of Set 5 | narsaq\n",
      "Processing Record 38 of Set 5 | kavieng\n",
      "Processing Record 39 of Set 5 | dalianwan\n",
      "Processing Record 40 of Set 5 | bambous virieux\n",
      "Processing Record 41 of Set 5 | qaanaaq\n",
      "Processing Record 42 of Set 5 | faanui\n",
      "Processing Record 43 of Set 5 | banda aceh\n",
      "Processing Record 44 of Set 5 | vostok\n",
      "Processing Record 45 of Set 5 | karratha\n",
      "Processing Record 46 of Set 5 | agua dulce\n",
      "Processing Record 47 of Set 5 | gizo\n",
      "Processing Record 48 of Set 5 | ust-maya\n",
      "Processing Record 49 of Set 5 | thompson\n",
      "Processing Record 50 of Set 5 | sarnen\n",
      "Processing Record 0 of Set 6 | mangrol\n",
      "Processing Record 1 of Set 6 | rumonge\n",
      "Processing Record 2 of Set 6 | moroni\n",
      "Processing Record 3 of Set 6 | sohbatpur\n",
      "Processing Record 4 of Set 6 | saint-pierre\n",
      "City not found - skipping.\n",
      "Processing Record 5 of Set 6 | ahipara\n",
      "Processing Record 6 of Set 6 | big rapids\n",
      "Processing Record 7 of Set 6 | santa vitoria do palmar\n",
      "Processing Record 8 of Set 6 | ponta do sol\n",
      "Processing Record 9 of Set 6 | dunakeszi\n",
      "Processing Record 10 of Set 6 | matara\n",
      "Processing Record 11 of Set 6 | batsfjord\n",
      "Processing Record 12 of Set 6 | tucumcari\n",
      "Processing Record 13 of Set 6 | salalah\n",
      "Processing Record 14 of Set 6 | price\n",
      "City not found - skipping.\n",
      "Processing Record 15 of Set 6 | san michele al tagliamento\n",
      "Processing Record 16 of Set 6 | rock sound\n",
      "Processing Record 17 of Set 6 | toltestava\n",
      "Processing Record 18 of Set 6 | tahe\n",
      "Processing Record 19 of Set 6 | komsomolskiy\n",
      "Processing Record 20 of Set 6 | salinas\n",
      "Processing Record 21 of Set 6 | batagay-alyta\n",
      "Processing Record 22 of Set 6 | praia\n",
      "Processing Record 23 of Set 6 | tuktoyaktuk\n",
      "Processing Record 24 of Set 6 | kruisfontein\n",
      "Processing Record 25 of Set 6 | anadyr\n",
      "Processing Record 26 of Set 6 | vao\n",
      "Processing Record 27 of Set 6 | gazli\n",
      "City not found - skipping.\n",
      "Processing Record 28 of Set 6 | dangriga\n",
      "Processing Record 29 of Set 6 | nizhniy odes\n",
      "Processing Record 30 of Set 6 | uray\n",
      "Processing Record 31 of Set 6 | alofi\n",
      "Processing Record 32 of Set 6 | port lincoln\n",
      "Processing Record 33 of Set 6 | fossombrone\n",
      "Processing Record 34 of Set 6 | nalut\n",
      "Processing Record 35 of Set 6 | sevierville\n",
      "Processing Record 36 of Set 6 | berlevag\n",
      "Processing Record 37 of Set 6 | heihe\n",
      "Processing Record 38 of Set 6 | scarborough\n",
      "City not found - skipping.\n",
      "Processing Record 39 of Set 6 | hokitika\n",
      "Processing Record 40 of Set 6 | krasnoborsk\n",
      "Processing Record 41 of Set 6 | veliko gradiste\n",
      "Processing Record 42 of Set 6 | amapa\n",
      "City not found - skipping.\n",
      "Processing Record 43 of Set 6 | neryungri\n",
      "Processing Record 44 of Set 6 | praia da vitoria\n",
      "Processing Record 45 of Set 6 | leninsk\n",
      "Processing Record 46 of Set 6 | sawtell\n",
      "Processing Record 47 of Set 6 | marawi\n",
      "Processing Record 48 of Set 6 | aquiraz\n",
      "Processing Record 49 of Set 6 | choya\n",
      "Processing Record 50 of Set 6 | igarka\n",
      "Processing Record 0 of Set 7 | grindavik\n",
      "Processing Record 1 of Set 7 | ucluelet\n",
      "Processing Record 2 of Set 7 | sao filipe\n",
      "Processing Record 3 of Set 7 | samarai\n",
      "Processing Record 4 of Set 7 | luanda\n",
      "Processing Record 5 of Set 7 | nabire\n",
      "Processing Record 6 of Set 7 | keflavik\n",
      "Processing Record 7 of Set 7 | klaksvik\n",
      "Processing Record 8 of Set 7 | varkkallai\n",
      "Processing Record 9 of Set 7 | ossora\n",
      "Processing Record 10 of Set 7 | solnechnyy\n",
      "Processing Record 11 of Set 7 | sulina\n",
      "Processing Record 12 of Set 7 | aksarayskiy\n",
      "Processing Record 13 of Set 7 | hasaki\n",
      "Processing Record 14 of Set 7 | balabac\n",
      "Processing Record 15 of Set 7 | leningradskiy\n",
      "Processing Record 16 of Set 7 | pajapan\n",
      "City not found - skipping.\n",
      "Processing Record 17 of Set 7 | hualmay\n",
      "Processing Record 18 of Set 7 | olenegorsk\n",
      "Processing Record 19 of Set 7 | tripoli\n",
      "City not found - skipping.\n",
      "Processing Record 20 of Set 7 | vallenar\n",
      "Processing Record 21 of Set 7 | rabo de peixe\n",
      "City not found - skipping.\n",
      "Processing Record 22 of Set 7 | kupang\n",
      "Processing Record 23 of Set 7 | wonthaggi\n",
      "Processing Record 24 of Set 7 | benguela\n",
      "Processing Record 25 of Set 7 | sheltozero\n",
      "Processing Record 26 of Set 7 | avera\n",
      "Processing Record 27 of Set 7 | dobryanka\n",
      "Processing Record 28 of Set 7 | antalaha\n",
      "Processing Record 29 of Set 7 | kommunar\n",
      "Processing Record 30 of Set 7 | inta\n",
      "Processing Record 31 of Set 7 | kodinar\n",
      "Processing Record 32 of Set 7 | french harbor\n",
      "Processing Record 33 of Set 7 | quatre cocos\n",
      "Processing Record 34 of Set 7 | cayenne\n",
      "Processing Record 35 of Set 7 | verkh-usugli\n",
      "Processing Record 36 of Set 7 | porto novo\n",
      "Processing Record 37 of Set 7 | tommot\n",
      "City not found - skipping.\n",
      "Processing Record 38 of Set 7 | fairbanks\n",
      "Processing Record 39 of Set 7 | mogocha\n",
      "Processing Record 40 of Set 7 | ribeira brava\n",
      "Processing Record 41 of Set 7 | nome\n",
      "Processing Record 42 of Set 7 | san andres\n",
      "City not found - skipping.\n",
      "Processing Record 43 of Set 7 | shingu\n",
      "City not found - skipping.\n",
      "Processing Record 44 of Set 7 | yibin\n",
      "City not found - skipping.\n",
      "Processing Record 45 of Set 7 | mahebourg\n",
      "Processing Record 46 of Set 7 | lisakovsk\n",
      "Processing Record 47 of Set 7 | nanortalik\n",
      "Processing Record 48 of Set 7 | korla\n",
      "City not found - skipping.\n",
      "City not found - skipping.\n",
      "Processing Record 49 of Set 7 | trincomalee\n",
      "Processing Record 50 of Set 7 | inhambane\n",
      "Processing Record 0 of Set 8 | kerema\n",
      "Processing Record 1 of Set 8 | lagoa\n",
      "Processing Record 2 of Set 8 | waipawa\n",
      "Processing Record 3 of Set 8 | matsubase\n",
      "Processing Record 4 of Set 8 | szentgotthard\n",
      "Processing Record 5 of Set 8 | istok\n",
      "Processing Record 6 of Set 8 | chumikan\n",
      "Processing Record 7 of Set 8 | sosnovka\n",
      "Processing Record 8 of Set 8 | picos\n",
      "Processing Record 9 of Set 8 | santa maria da boa vista\n",
      "Processing Record 10 of Set 8 | luderitz\n",
      "Processing Record 11 of Set 8 | dois vizinhos\n",
      "City not found - skipping.\n",
      "Processing Record 12 of Set 8 | fershampenuaz\n",
      "Processing Record 13 of Set 8 | springbok\n",
      "Processing Record 14 of Set 8 | tamiahua\n",
      "City not found - skipping.\n",
      "Processing Record 15 of Set 8 | port keats\n",
      "Processing Record 16 of Set 8 | telfs\n",
      "Processing Record 17 of Set 8 | villa carlos paz\n",
      "Processing Record 18 of Set 8 | xining\n",
      "Processing Record 19 of Set 8 | englewood\n"
     ]
    },
    {
     "name": "stdout",
     "output_type": "stream",
     "text": [
      "Processing Record 20 of Set 8 | svetlogorsk\n",
      "City not found - skipping.\n",
      "Processing Record 21 of Set 8 | los llanos de aridane\n",
      "Processing Record 22 of Set 8 | chittaurgarh\n",
      "Processing Record 23 of Set 8 | bria\n",
      "Processing Record 24 of Set 8 | shakawe\n",
      "Processing Record 25 of Set 8 | eyrarbakki\n",
      "Processing Record 26 of Set 8 | ulladulla\n",
      "Processing Record 27 of Set 8 | pozo colorado\n",
      "Processing Record 28 of Set 8 | anshun\n",
      "Processing Record 29 of Set 8 | tabas\n",
      "Processing Record 30 of Set 8 | obihiro\n",
      "Processing Record 31 of Set 8 | merrill\n",
      "Processing Record 32 of Set 8 | caarapo\n",
      "Processing Record 33 of Set 8 | oildale\n",
      "Processing Record 34 of Set 8 | yar-sale\n",
      "Processing Record 35 of Set 8 | half moon bay\n",
      "Processing Record 36 of Set 8 | wellington\n",
      "City not found - skipping.\n",
      "Processing Record 37 of Set 8 | belmonte\n",
      "Processing Record 38 of Set 8 | fuerte olimpo\n",
      "Processing Record 39 of Set 8 | zhangjiakou\n",
      "City not found - skipping.\n",
      "Processing Record 40 of Set 8 | sarahan\n",
      "Processing Record 41 of Set 8 | luwuk\n",
      "Processing Record 42 of Set 8 | rome\n",
      "Processing Record 43 of Set 8 | basco\n",
      "Processing Record 44 of Set 8 | semirom\n",
      "Processing Record 45 of Set 8 | cumbitara\n",
      "Processing Record 46 of Set 8 | otane\n",
      "Processing Record 47 of Set 8 | namibe\n",
      "Processing Record 48 of Set 8 | bartica\n",
      "Processing Record 49 of Set 8 | kulachi\n",
      "Processing Record 50 of Set 8 | narrabri\n",
      "City not found - skipping.\n",
      "Processing Record 0 of Set 9 | moses lake\n",
      "Processing Record 1 of Set 9 | san quintin\n",
      "Processing Record 2 of Set 9 | turukhansk\n",
      "City not found - skipping.\n",
      "Processing Record 3 of Set 9 | dvorichna\n",
      "Processing Record 4 of Set 9 | bossier city\n",
      "Processing Record 5 of Set 9 | oistins\n",
      "City not found - skipping.\n",
      "Processing Record 6 of Set 9 | clyde river\n",
      "Processing Record 7 of Set 9 | omboue\n",
      "Processing Record 8 of Set 9 | the valley\n",
      "Processing Record 9 of Set 9 | cockburn town\n",
      "Processing Record 10 of Set 9 | esperance\n",
      "City not found - skipping.\n",
      "Processing Record 11 of Set 9 | sabancuy\n",
      "Processing Record 12 of Set 9 | thunder bay\n",
      "Processing Record 13 of Set 9 | jaca\n",
      "Processing Record 14 of Set 9 | kuala terengganu\n",
      "Processing Record 15 of Set 9 | moyale\n",
      "Processing Record 16 of Set 9 | vila velha\n",
      "Processing Record 17 of Set 9 | lazaro cardenas\n",
      "Processing Record 18 of Set 9 | gonc\n",
      "Processing Record 19 of Set 9 | sao joao da barra\n",
      "Processing Record 20 of Set 9 | shenjiamen\n",
      "Processing Record 21 of Set 9 | seoul\n",
      "Processing Record 22 of Set 9 | maceio\n",
      "City not found - skipping.\n",
      "Processing Record 23 of Set 9 | saint-georges\n",
      "Processing Record 24 of Set 9 | dawei\n",
      "Processing Record 25 of Set 9 | birobidzhan\n",
      "Processing Record 26 of Set 9 | te anau\n",
      "City not found - skipping.\n",
      "Processing Record 27 of Set 9 | kaeo\n",
      "Processing Record 28 of Set 9 | vengerovo\n",
      "Processing Record 29 of Set 9 | pishva\n",
      "Processing Record 30 of Set 9 | amudat\n",
      "Processing Record 31 of Set 9 | plastun\n",
      "Processing Record 32 of Set 9 | teguise\n",
      "Processing Record 33 of Set 9 | kununurra\n",
      "City not found - skipping.\n",
      "Processing Record 34 of Set 9 | bouca\n",
      "Processing Record 35 of Set 9 | vanavara\n",
      "Processing Record 36 of Set 9 | durgapur\n",
      "City not found - skipping.\n",
      "Processing Record 37 of Set 9 | pangnirtung\n",
      "Processing Record 38 of Set 9 | capaci\n",
      "Processing Record 39 of Set 9 | kodoli\n",
      "Processing Record 40 of Set 9 | aklavik\n",
      "City not found - skipping.\n",
      "Processing Record 41 of Set 9 | ixtapa\n",
      "Processing Record 42 of Set 9 | camana\n",
      "Processing Record 43 of Set 9 | coihaique\n",
      "Processing Record 44 of Set 9 | soe\n",
      "Processing Record 45 of Set 9 | jumla\n",
      "Processing Record 46 of Set 9 | ambilobe\n",
      "Processing Record 47 of Set 9 | ranot\n",
      "Processing Record 48 of Set 9 | balclutha\n",
      "Processing Record 49 of Set 9 | topolobampo\n",
      "Processing Record 50 of Set 9 | albuquerque\n",
      "Processing Record 0 of Set 10 | bondo\n",
      "Processing Record 1 of Set 10 | tucuma\n",
      "City not found - skipping.\n",
      "Processing Record 2 of Set 10 | luba\n",
      "Processing Record 3 of Set 10 | orsta\n",
      "Processing Record 4 of Set 10 | biharamulo\n",
      "Processing Record 5 of Set 10 | faya\n",
      "Processing Record 6 of Set 10 | manaus\n",
      "City not found - skipping.\n",
      "Processing Record 7 of Set 10 | aksu\n",
      "Processing Record 8 of Set 10 | broome\n",
      "Processing Record 9 of Set 10 | mildura\n",
      "Processing Record 10 of Set 10 | kuytun\n",
      "Processing Record 11 of Set 10 | tezu\n",
      "City not found - skipping.\n",
      "Processing Record 12 of Set 10 | ranong\n",
      "Processing Record 13 of Set 10 | hellvik\n",
      "Processing Record 14 of Set 10 | grand gaube\n",
      "Processing Record 15 of Set 10 | iqaluit\n",
      "Processing Record 16 of Set 10 | ulaangom\n",
      "Processing Record 17 of Set 10 | bonfim\n",
      "Processing Record 18 of Set 10 | bac lieu\n",
      "Processing Record 19 of Set 10 | isangel\n",
      "Processing Record 20 of Set 10 | bilibino\n",
      "Processing Record 21 of Set 10 | mbandaka\n",
      "Processing Record 22 of Set 10 | comodoro rivadavia\n",
      "Processing Record 23 of Set 10 | santo domingo\n",
      "Processing Record 24 of Set 10 | gao\n",
      "Processing Record 25 of Set 10 | linjiang\n",
      "Processing Record 26 of Set 10 | voh\n",
      "City not found - skipping.\n",
      "Processing Record 27 of Set 10 | rorvik\n",
      "Processing Record 28 of Set 10 | paamiut\n",
      "City not found - skipping.\n",
      "Processing Record 29 of Set 10 | pamanukan\n",
      "Processing Record 30 of Set 10 | dedza\n",
      "Processing Record 31 of Set 10 | erdotelek\n",
      "Processing Record 32 of Set 10 | meulaboh\n",
      "Processing Record 33 of Set 10 | lufilufi\n",
      "Processing Record 34 of Set 10 | marsh harbour\n",
      "City not found - skipping.\n",
      "Processing Record 35 of Set 10 | monterey\n",
      "Processing Record 36 of Set 10 | urucui\n",
      "Processing Record 37 of Set 10 | beidao\n",
      "Processing Record 38 of Set 10 | tigil\n",
      "Processing Record 39 of Set 10 | calama\n",
      "Processing Record 40 of Set 10 | bakchar\n",
      "Processing Record 41 of Set 10 | san carlos de bariloche\n",
      "Processing Record 42 of Set 10 | asau\n",
      "Processing Record 43 of Set 10 | whitehorse\n",
      "Processing Record 44 of Set 10 | raga\n",
      "City not found - skipping.\n",
      "Processing Record 45 of Set 10 | ust-kulom\n",
      "Processing Record 46 of Set 10 | broken hill\n",
      "Processing Record 47 of Set 10 | vetlanda\n",
      "City not found - skipping.\n",
      "Processing Record 48 of Set 10 | dongsheng\n",
      "Processing Record 49 of Set 10 | manoel urbano\n",
      "Processing Record 50 of Set 10 | dudinka\n",
      "Processing Record 0 of Set 11 | deputatskiy\n",
      "Processing Record 1 of Set 11 | havre-saint-pierre\n",
      "Processing Record 2 of Set 11 | tete\n",
      "Processing Record 3 of Set 11 | jalu\n",
      "Processing Record 4 of Set 11 | gwadar\n",
      "Processing Record 5 of Set 11 | kushiro\n",
      "Processing Record 6 of Set 11 | abatskoye\n",
      "Processing Record 7 of Set 11 | olga\n",
      "Processing Record 8 of Set 11 | erenhot\n",
      "Processing Record 9 of Set 11 | tessalit\n",
      "Processing Record 10 of Set 11 | oga\n",
      "Processing Record 11 of Set 11 | ardmore\n",
      "Processing Record 12 of Set 11 | rio grande\n",
      "Processing Record 13 of Set 11 | port lavaca\n",
      "Processing Record 14 of Set 11 | lotoshino\n",
      "Processing Record 15 of Set 11 | riyadh\n",
      "Processing Record 16 of Set 11 | saint-joseph\n",
      "City not found - skipping.\n",
      "Processing Record 17 of Set 11 | hambantota\n",
      "Processing Record 18 of Set 11 | taltal\n",
      "Processing Record 19 of Set 11 | tura\n",
      "Processing Record 20 of Set 11 | bonavista\n",
      "City not found - skipping.\n",
      "Processing Record 21 of Set 11 | mahina\n",
      "Processing Record 22 of Set 11 | ushtobe\n",
      "Processing Record 23 of Set 11 | pandan niog\n",
      "Processing Record 24 of Set 11 | groningen\n",
      "Processing Record 25 of Set 11 | san lorenzo\n",
      "Processing Record 26 of Set 11 | key largo\n",
      "Processing Record 27 of Set 11 | sturgis\n",
      "Processing Record 28 of Set 11 | preobrazheniye\n",
      "Processing Record 29 of Set 11 | nikolayevsk-na-amure\n",
      "Processing Record 30 of Set 11 | galle\n",
      "Processing Record 31 of Set 11 | hollins\n",
      "Processing Record 32 of Set 11 | caraquet\n",
      "Processing Record 33 of Set 11 | malinovskiy\n",
      "Processing Record 34 of Set 11 | springfield\n",
      "Processing Record 35 of Set 11 | alta floresta\n",
      "Processing Record 36 of Set 11 | portel\n",
      "City not found - skipping.\n",
      "Processing Record 37 of Set 11 | oktyabrskiy\n",
      "Processing Record 38 of Set 11 | putyatino\n",
      "Processing Record 39 of Set 11 | presidencia roque saenz pena\n",
      "Processing Record 40 of Set 11 | poya\n",
      "Processing Record 41 of Set 11 | hobyo\n",
      "Processing Record 42 of Set 11 | rocha\n",
      "Processing Record 43 of Set 11 | ylivieska\n",
      "Processing Record 44 of Set 11 | eureka\n",
      "Processing Record 45 of Set 11 | vyartsilya\n",
      "Processing Record 46 of Set 11 | hirara\n",
      "City not found - skipping.\n",
      "Processing Record 47 of Set 11 | charters towers\n",
      "Processing Record 48 of Set 11 | salto\n"
     ]
    },
    {
     "name": "stdout",
     "output_type": "stream",
     "text": [
      "Processing Record 49 of Set 11 | killarney\n",
      "City not found - skipping.\n",
      "Processing Record 50 of Set 11 | qandala\n",
      "Processing Record 0 of Set 12 | ayaviri\n",
      "Processing Record 1 of Set 12 | mbalmayo\n",
      "Processing Record 2 of Set 12 | kandrian\n",
      "Processing Record 3 of Set 12 | zabaykalsk\n",
      "Processing Record 4 of Set 12 | itupiranga\n",
      "City not found - skipping.\n",
      "City not found - skipping.\n",
      "Processing Record 5 of Set 12 | pecanha\n",
      "Processing Record 6 of Set 12 | krabi\n",
      "Processing Record 7 of Set 12 | nantucket\n",
      "Processing Record 8 of Set 12 | krasnovishersk\n",
      "Processing Record 9 of Set 12 | mayo\n",
      "Processing Record 10 of Set 12 | nouadhibou\n",
      "Processing Record 11 of Set 12 | fare\n",
      "Processing Record 12 of Set 12 | klyuchi\n"
     ]
    }
   ],
   "source": [
    "#save config information\n",
    "url = \"http://api.openweathermap.org/data/2.5/weather?\"\n",
    "units = \"imperial\"\n",
    "\n",
    "#build query url\n",
    "query_url = f\"{url}appid={weather_api_key}&units={units}&q=\"\n",
    "\n",
    "#empty lists to store retrieved data\n",
    "cityNameList = []\n",
    "latList = []\n",
    "lngList = []\n",
    "maxTempList= []\n",
    "humidityList = []\n",
    "cloudinessList = []\n",
    "windSpeedList = []\n",
    "countryList = []\n",
    "dateList = []\n",
    "\n",
    "#counter variables\n",
    "record = 0 \n",
    "log_set = 1\n",
    "\n",
    "print(\"Beginning Data Retrieval\")\n",
    "print(\"------------------------\")\n",
    "\n",
    "#loop through cities\n",
    "for city in cities:\n",
    "        \n",
    "    #get the weather data    \n",
    "    weather_json = requests.get(query_url + city).json()\n",
    "    \n",
    "    try:\n",
    "        # Get weather data\n",
    "        \n",
    "        #store information and add to lists\n",
    "        cityName = weather_json[\"name\"]\n",
    "        cityNameList.append(cityName)\n",
    "        \n",
    "        lat = weather_json[\"coord\"][\"lat\"]\n",
    "        latList.append(lat)\n",
    "        \n",
    "        lng = weather_json[\"coord\"][\"lon\"]\n",
    "        lngList.append(lng)\n",
    "        \n",
    "        maxTemp = weather_json[\"main\"][\"temp_max\"]\n",
    "        maxTempList.append(maxTemp)\n",
    "        \n",
    "        humidity = weather_json[\"main\"][\"humidity\"]\n",
    "        humidityList.append(humidity)\n",
    "        \n",
    "        cloudiness = weather_json[\"clouds\"][\"all\"]\n",
    "        cloudinessList.append(cloudiness)\n",
    "        \n",
    "        windSpeed = weather_json[\"wind\"][\"speed\"]\n",
    "        windSpeedList.append(windSpeed)\n",
    "        \n",
    "        country = weather_json[\"sys\"][\"country\"]\n",
    "        countryList.append(country)\n",
    "        \n",
    "        date = weather_json[\"dt\"]\n",
    "        dateList.append(date)\n",
    "        \n",
    "        #prints log of each city \n",
    "        print(f\"Processing Record {record} of Set {log_set} | {city}\")\n",
    "        \n",
    "        if record <= 49:\n",
    "            record +=1\n",
    "        \n",
    "        else:\n",
    "            record = 0\n",
    "            log_set+=1\n",
    "      \n",
    "    except:\n",
    "        print(\"City not found - skipping.\")"
   ]
  },
  {
   "cell_type": "markdown",
   "metadata": {},
   "source": [
    "### Convert Raw Data to DataFrame\n",
    "* Export the city data into a .csv.\n",
    "* Display the DataFrame"
   ]
  },
  {
   "cell_type": "code",
   "execution_count": 5,
   "metadata": {},
   "outputs": [
    {
     "data": {
      "text/html": [
       "<div>\n",
       "<style scoped>\n",
       "    .dataframe tbody tr th:only-of-type {\n",
       "        vertical-align: middle;\n",
       "    }\n",
       "\n",
       "    .dataframe tbody tr th {\n",
       "        vertical-align: top;\n",
       "    }\n",
       "\n",
       "    .dataframe thead th {\n",
       "        text-align: right;\n",
       "    }\n",
       "</style>\n",
       "<table border=\"1\" class=\"dataframe\">\n",
       "  <thead>\n",
       "    <tr style=\"text-align: right;\">\n",
       "      <th></th>\n",
       "      <th>City</th>\n",
       "      <th>Lat</th>\n",
       "      <th>Lng</th>\n",
       "      <th>Max Temp</th>\n",
       "      <th>Humidity</th>\n",
       "      <th>Cloudiness</th>\n",
       "      <th>Wind Speed</th>\n",
       "      <th>Country</th>\n",
       "      <th>Date</th>\n",
       "    </tr>\n",
       "  </thead>\n",
       "  <tbody>\n",
       "    <tr>\n",
       "      <th>0</th>\n",
       "      <td>Chui</td>\n",
       "      <td>-33.6971</td>\n",
       "      <td>-53.4616</td>\n",
       "      <td>52.43</td>\n",
       "      <td>89</td>\n",
       "      <td>0</td>\n",
       "      <td>3.83</td>\n",
       "      <td>UY</td>\n",
       "      <td>1634880392</td>\n",
       "    </tr>\n",
       "    <tr>\n",
       "      <th>1</th>\n",
       "      <td>Jāwā</td>\n",
       "      <td>31.8525</td>\n",
       "      <td>35.9393</td>\n",
       "      <td>61.11</td>\n",
       "      <td>59</td>\n",
       "      <td>0</td>\n",
       "      <td>0.00</td>\n",
       "      <td>JO</td>\n",
       "      <td>1634880746</td>\n",
       "    </tr>\n",
       "    <tr>\n",
       "      <th>2</th>\n",
       "      <td>Tilichiki</td>\n",
       "      <td>60.4667</td>\n",
       "      <td>166.1000</td>\n",
       "      <td>6.71</td>\n",
       "      <td>88</td>\n",
       "      <td>16</td>\n",
       "      <td>5.23</td>\n",
       "      <td>RU</td>\n",
       "      <td>1634880747</td>\n",
       "    </tr>\n",
       "    <tr>\n",
       "      <th>3</th>\n",
       "      <td>Longyearbyen</td>\n",
       "      <td>78.2186</td>\n",
       "      <td>15.6401</td>\n",
       "      <td>17.44</td>\n",
       "      <td>93</td>\n",
       "      <td>75</td>\n",
       "      <td>8.05</td>\n",
       "      <td>SJ</td>\n",
       "      <td>1634880747</td>\n",
       "    </tr>\n",
       "    <tr>\n",
       "      <th>4</th>\n",
       "      <td>Gold Coast</td>\n",
       "      <td>-28.0000</td>\n",
       "      <td>153.4333</td>\n",
       "      <td>82.24</td>\n",
       "      <td>82</td>\n",
       "      <td>90</td>\n",
       "      <td>1.99</td>\n",
       "      <td>AU</td>\n",
       "      <td>1634880748</td>\n",
       "    </tr>\n",
       "  </tbody>\n",
       "</table>\n",
       "</div>"
      ],
      "text/plain": [
       "           City      Lat       Lng  Max Temp  Humidity  Cloudiness  \\\n",
       "0          Chui -33.6971  -53.4616     52.43        89           0   \n",
       "1          Jāwā  31.8525   35.9393     61.11        59           0   \n",
       "2     Tilichiki  60.4667  166.1000      6.71        88          16   \n",
       "3  Longyearbyen  78.2186   15.6401     17.44        93          75   \n",
       "4    Gold Coast -28.0000  153.4333     82.24        82          90   \n",
       "\n",
       "   Wind Speed Country        Date  \n",
       "0        3.83      UY  1634880392  \n",
       "1        0.00      JO  1634880746  \n",
       "2        5.23      RU  1634880747  \n",
       "3        8.05      SJ  1634880747  \n",
       "4        1.99      AU  1634880748  "
      ]
     },
     "execution_count": 5,
     "metadata": {},
     "output_type": "execute_result"
    }
   ],
   "source": [
    "#create dataframe\n",
    "city_df = pd.DataFrame({\"City\": cityNameList, \"Lat\": latList, \"Lng\": lngList, \"Max Temp\": maxTempList,\n",
    "                       \"Humidity\": humidityList, \"Cloudiness\": cloudinessList, \"Wind Speed\": windSpeedList,\n",
    "                       \"Country\": countryList, \"Date\": dateList})\n",
    "#display dataframe\n",
    "city_df.head()\n",
    "\n",
    "#export to csvfile "
   ]
  },
  {
   "cell_type": "markdown",
   "metadata": {},
   "source": [
    "## Inspect the data and remove the cities where the humidity > 100%.\n",
    "----\n",
    "Skip this step if there are no cities that have humidity > 100%. "
   ]
  },
  {
   "cell_type": "code",
   "execution_count": 6,
   "metadata": {},
   "outputs": [
    {
     "data": {
      "text/html": [
       "<div>\n",
       "<style scoped>\n",
       "    .dataframe tbody tr th:only-of-type {\n",
       "        vertical-align: middle;\n",
       "    }\n",
       "\n",
       "    .dataframe tbody tr th {\n",
       "        vertical-align: top;\n",
       "    }\n",
       "\n",
       "    .dataframe thead th {\n",
       "        text-align: right;\n",
       "    }\n",
       "</style>\n",
       "<table border=\"1\" class=\"dataframe\">\n",
       "  <thead>\n",
       "    <tr style=\"text-align: right;\">\n",
       "      <th></th>\n",
       "      <th>City</th>\n",
       "      <th>Lat</th>\n",
       "      <th>Lng</th>\n",
       "      <th>Max Temp</th>\n",
       "      <th>Humidity</th>\n",
       "      <th>Cloudiness</th>\n",
       "      <th>Wind Speed</th>\n",
       "      <th>Country</th>\n",
       "      <th>Date</th>\n",
       "    </tr>\n",
       "  </thead>\n",
       "  <tbody>\n",
       "  </tbody>\n",
       "</table>\n",
       "</div>"
      ],
      "text/plain": [
       "Empty DataFrame\n",
       "Columns: [City, Lat, Lng, Max Temp, Humidity, Cloudiness, Wind Speed, Country, Date]\n",
       "Index: []"
      ]
     },
     "execution_count": 6,
     "metadata": {},
     "output_type": "execute_result"
    }
   ],
   "source": [
    "#identify cities with humidity > 100\n",
    "high_humidity = city_df.loc[city_df[\"Humidity\"] > int(100)]\n",
    "high_humidity"
   ]
  },
  {
   "cell_type": "code",
   "execution_count": null,
   "metadata": {},
   "outputs": [],
   "source": [
    "#  Get the indices of cities that have humidity over 100%.\n"
   ]
  },
  {
   "cell_type": "code",
   "execution_count": null,
   "metadata": {},
   "outputs": [],
   "source": [
    "# Make a new DataFrame equal to the city data to drop all humidity outliers by index.\n",
    "# Passing \"inplace=False\" will make a copy of the city_data DataFrame, which we call \"clean_city_data\".\n"
   ]
  },
  {
   "cell_type": "markdown",
   "metadata": {},
   "source": [
    "## Plotting the Data\n",
    "* Use proper labeling of the plots using plot titles (including date of analysis) and axes labels.\n",
    "* Save the plotted figures as .pngs."
   ]
  },
  {
   "cell_type": "markdown",
   "metadata": {},
   "source": [
    "## Latitude vs. Temperature Plot"
   ]
  },
  {
   "cell_type": "code",
   "execution_count": 125,
   "metadata": {
    "scrolled": true
   },
   "outputs": [
    {
     "data": {
      "image/png": "[encoded data removed]",
      "text/plain": [
       "<Figure size 432x288 with 1 Axes>"
      ]
     },
     "metadata": {
      "needs_background": "light"
     },
     "output_type": "display_data"
    },
    {
     "data": {
      "text/plain": [
       "<Figure size 432x288 with 0 Axes>"
      ]
     },
     "metadata": {},
     "output_type": "display_data"
    }
   ],
   "source": [
    "#scatter plot of the data\n",
    "plt.scatter(city_df[\"Lat\"], city_df[\"Max Temp\"])\n",
    "\n",
    "#labels\n",
    "plt.title(\"Latitude vs. Max Temperature\")\n",
    "plt.xlabel(\"Latitude\")\n",
    "plt.ylabel(\"Max Temperature (F)\")\n",
    "\n",
    "#axes limits\n",
    "plt.ylim(0, 100)\n",
    "plt.xlim(-60, 80)\n",
    "\n",
    "#display the plot\n",
    "plt.show()\n",
    "\n",
    "#save image\n",
    "plt.savefig(\"Images/lat_temp.png\")"
   ]
  },
  {
   "cell_type": "markdown",
   "metadata": {},
   "source": [
    "## Latitude vs. Humidity Plot"
   ]
  },
  {
   "cell_type": "code",
   "execution_count": 126,
   "metadata": {},
   "outputs": [
    {
     "data": {
      "image/png": "[encoded data removed]",
      "text/plain": [
       "<Figure size 432x288 with 1 Axes>"
      ]
     },
     "metadata": {
      "needs_background": "light"
     },
     "output_type": "display_data"
    },
    {
     "data": {
      "text/plain": [
       "<Figure size 432x288 with 0 Axes>"
      ]
     },
     "metadata": {},
     "output_type": "display_data"
    }
   ],
   "source": [
    "#scatter plot of the data\n",
    "plt.scatter(city_df[\"Lat\"], city_df[\"Humidity\"])\n",
    "\n",
    "#labels\n",
    "plt.title(\"Latitude vs. Humidity\")\n",
    "plt.xlabel(\"Latitude\")\n",
    "plt.ylabel(\"Humidity (%)\")\n",
    "\n",
    "#axes limits\n",
    "plt.ylim(0, 100)\n",
    "plt.xlim(-60, 80)\n",
    "\n",
    "#display the plot\n",
    "plt.show()\n",
    "\n",
    "#save image\n",
    "plt.savefig(\"Images/lat_humidity.png\")"
   ]
  },
  {
   "cell_type": "markdown",
   "metadata": {},
   "source": [
    "## Latitude vs. Cloudiness Plot"
   ]
  },
  {
   "cell_type": "code",
   "execution_count": 127,
   "metadata": {},
   "outputs": [
    {
     "data": {
      "image/png": "[encoded data removed]",
      "text/plain": [
       "<Figure size 432x288 with 1 Axes>"
      ]
     },
     "metadata": {
      "needs_background": "light"
     },
     "output_type": "display_data"
    },
    {
     "data": {
      "text/plain": [
       "<Figure size 432x288 with 0 Axes>"
      ]
     },
     "metadata": {},
     "output_type": "display_data"
    }
   ],
   "source": [
    "#scatter plot of the data\n",
    "plt.scatter(city_df[\"Lat\"], city_df[\"Cloudiness\"])\n",
    "\n",
    "#labels\n",
    "plt.title(\"Latitude vs. Cloudiness\")\n",
    "plt.xlabel(\"Latitude\")\n",
    "plt.ylabel(\"Cloudiness (%)\")\n",
    "\n",
    "#axes limits\n",
    "plt.ylim(-5, 100)\n",
    "plt.xlim(-60, 80)\n",
    "\n",
    "#display the plot\n",
    "plt.show()\n",
    "\n",
    "#save image\n",
    "plt.savefig(\"Images/lat_cloudiness.png\")"
   ]
  },
  {
   "cell_type": "markdown",
   "metadata": {},
   "source": [
    "## Latitude vs. Wind Speed Plot"
   ]
  },
  {
   "cell_type": "code",
   "execution_count": 128,
   "metadata": {
    "scrolled": true
   },
   "outputs": [
    {
     "data": {
      "image/png": "[encoded data removed]",
      "text/plain": [
       "<Figure size 432x288 with 1 Axes>"
      ]
     },
     "metadata": {
      "needs_background": "light"
     },
     "output_type": "display_data"
    },
    {
     "data": {
      "text/plain": [
       "<Figure size 432x288 with 0 Axes>"
      ]
     },
     "metadata": {},
     "output_type": "display_data"
    }
   ],
   "source": [
    "#scatter plot of the data\n",
    "plt.scatter(city_df[\"Lat\"], city_df[\"Wind Speed\"])\n",
    "\n",
    "#labels\n",
    "plt.title(\"Latitude vs. Wind Speed\")\n",
    "plt.xlabel(\"Latitude\")\n",
    "plt.ylabel(\"Wind Speed (mph)\")\n",
    "\n",
    "#axes limits\n",
    "plt.ylim(0, 40)\n",
    "plt.xlim(-60, 80)\n",
    "\n",
    "#display the plot\n",
    "plt.show()\n",
    "\n",
    "#save image\n",
    "plt.savefig(\"Images/lat_windspeed.png\")"
   ]
  },
  {
   "cell_type": "markdown",
   "metadata": {},
   "source": [
    "## Linear Regression"
   ]
  },
  {
   "cell_type": "code",
   "execution_count": 129,
   "metadata": {},
   "outputs": [],
   "source": [
    "#create northern and southern hemisphere variables\n",
    "northern_hemisphere = city_df.loc[city_df[\"Lat\"] > 0 ]\n",
    "southern_hemisphere = city_df.loc[city_df[\"Lat\"] < 0 ]"
   ]
  },
  {
   "cell_type": "markdown",
   "metadata": {},
   "source": [
    "####  Northern Hemisphere - Max Temp vs. Latitude Linear Regression"
   ]
  },
  {
   "cell_type": "code",
   "execution_count": 130,
   "metadata": {},
   "outputs": [
    {
     "name": "stdout",
     "output_type": "stream",
     "text": [
      "The correlation between northen hemisphere latitude and max temperature is -0.89.\n"
     ]
    },
    {
     "data": {
      "image/png": "[encoded data removed]",
      "text/plain": [
       "<Figure size 432x288 with 1 Axes>"
      ]
     },
     "metadata": {
      "needs_background": "light"
     },
     "output_type": "display_data"
    },
    {
     "data": {
      "text/plain": [
       "<Figure size 432x288 with 0 Axes>"
      ]
     },
     "metadata": {},
     "output_type": "display_data"
    }
   ],
   "source": [
    "#determine St. Pearson Correlation Coefficient\n",
    "correlation = round(st.pearsonr(northern_hemisphere[\"Lat\"], northern_hemisphere[\"Max Temp\"])[0],2)\n",
    "\n",
    "#print St. Pearson Correlation Coefficient\n",
    "print(f\"The correlation between northen hemisphere latitude and max temperature is {correlation:.2f}.\")\n",
    "\n",
    "# establish linear regression values\n",
    "model = st.linregress(northern_hemisphere[\"Lat\"], northern_hemisphere[\"Max Temp\"])\n",
    "\n",
    "# linear regression line \n",
    "yvalues = (northern_hemisphere[\"Lat\"] * model[0]) + model[1]\n",
    "line_eq = \"y = \" + str(round(model[0],2)) + \"x + \" + str(round(model[1],2))\n",
    "\n",
    "# scatter plot of the data\n",
    "plt.scatter(northern_hemisphere[\"Lat\"], northern_hemisphere[\"Max Temp\"])\n",
    "plt.plot(northern_hemisphere[\"Lat\"], yvalues, color = \"red\")\n",
    "\n",
    "#annotation and labels\n",
    "plt.annotate(line_eq,(10,0),fontsize=12,color=\"red\")\n",
    "plt.xlabel (\"Northern Hemisphere Latitude\")\n",
    "plt.ylabel (\"Max Temp (F)\")\n",
    "\n",
    "#axes limits\n",
    "plt.ylim(-20, 120)\n",
    "plt.xlim(0, 80)\n",
    "\n",
    "#display plot\n",
    "plt.show()\n",
    "\n",
    "#save image\n",
    "plt.savefig(\"Images/nh_lat_temp_regression.png\")"
   ]
  },
  {
   "cell_type": "markdown",
   "metadata": {},
   "source": [
    "####  Southern Hemisphere - Max Temp vs. Latitude Linear Regression"
   ]
  },
  {
   "cell_type": "code",
   "execution_count": 131,
   "metadata": {},
   "outputs": [
    {
     "name": "stdout",
     "output_type": "stream",
     "text": [
      "The correlation southern hemisphere latitude and max temperature is 0.61.\n"
     ]
    },
    {
     "data": {
      "image/png": "[encoded data removed]",
      "text/plain": [
       "<Figure size 432x288 with 1 Axes>"
      ]
     },
     "metadata": {
      "needs_background": "light"
     },
     "output_type": "display_data"
    },
    {
     "data": {
      "text/plain": [
       "<Figure size 432x288 with 0 Axes>"
      ]
     },
     "metadata": {},
     "output_type": "display_data"
    }
   ],
   "source": [
    "#determine St. Pearson Correlation Coefficient\n",
    "correlation = round(st.pearsonr(southern_hemisphere[\"Lat\"], southern_hemisphere[\"Max Temp\"])[0],2)\n",
    "\n",
    "#print St. Pearson Correlation Coefficient\n",
    "print(f\"The correlation southern hemisphere latitude and max temperature is {correlation:.2f}.\")\n",
    "\n",
    "# establish linear regression values\n",
    "model = st.linregress(southern_hemisphere[\"Lat\"], southern_hemisphere[\"Max Temp\"])\n",
    "\n",
    "# linear regression line \n",
    "yvalues = (southern_hemisphere[\"Lat\"] * model[0]) + model[1]\n",
    "line_eq = \"y = \" + str(round(model[0],2)) + \"x + \" + str(round(model[1],2))\n",
    "\n",
    "# scatter plot of the data\n",
    "plt.scatter(southern_hemisphere[\"Lat\"], southern_hemisphere[\"Max Temp\"])\n",
    "plt.plot(southern_hemisphere[\"Lat\"], yvalues, color = \"red\")\n",
    "\n",
    "#annotation and labels\n",
    "plt.annotate(line_eq,(-50, 20),fontsize=12,color=\"red\")\n",
    "plt.xlabel (\"Southern Hemisphere Latitude\")\n",
    "plt.ylabel (\"Max Temp (F)\")\n",
    "\n",
    "#axes limits\n",
    "plt.ylim(0, 120)\n",
    "plt.xlim(-60, 0)\n",
    "\n",
    "#display plot\n",
    "plt.show()\n",
    "\n",
    "#save image\n",
    "plt.savefig(\"Images/sh_lat_temp_regression.png\")"
   ]
  },
  {
   "cell_type": "markdown",
   "metadata": {},
   "source": [
    "####  Northern Hemisphere - Humidity (%) vs. Latitude Linear Regression"
   ]
  },
  {
   "cell_type": "code",
   "execution_count": 132,
   "metadata": {},
   "outputs": [
    {
     "name": "stdout",
     "output_type": "stream",
     "text": [
      "The correlation between northern hemisphere latitude and humidity is 0.15.\n"
     ]
    },
    {
     "data": {
      "image/png": "[encoded data removed]",
      "text/plain": [
       "<Figure size 432x288 with 1 Axes>"
      ]
     },
     "metadata": {
      "needs_background": "light"
     },
     "output_type": "display_data"
    },
    {
     "data": {
      "text/plain": [
       "<Figure size 432x288 with 0 Axes>"
      ]
     },
     "metadata": {},
     "output_type": "display_data"
    }
   ],
   "source": [
    "#determine St. Pearson Correlation Coefficient\n",
    "correlation = round(st.pearsonr(northern_hemisphere[\"Lat\"], northern_hemisphere[\"Humidity\"])[0],2)\n",
    "\n",
    "#print St. Pearson Correlation Coefficient\n",
    "print(f\"The correlation between northern hemisphere latitude and humidity is {correlation:.2f}.\")\n",
    "\n",
    "# establish linear regression values\n",
    "model = st.linregress(northern_hemisphere[\"Lat\"], northern_hemisphere[\"Humidity\"])\n",
    "\n",
    "# linear regression line \n",
    "yvalues = (northern_hemisphere[\"Lat\"] * model[0]) + model[1]\n",
    "line_eq = \"y = \" + str(round(model[0],2)) + \"x + \" + str(round(model[1],2))\n",
    "\n",
    "# scatter plot of the data\n",
    "plt.scatter(northern_hemisphere[\"Lat\"], northern_hemisphere[\"Humidity\"])\n",
    "plt.plot(northern_hemisphere[\"Lat\"], yvalues, color = \"red\")\n",
    "\n",
    "#annotation and labels\n",
    "plt.annotate(line_eq,(50, 20),fontsize=12,color=\"red\")\n",
    "plt.xlabel (\"Northern Hemisphere Latitude\")\n",
    "plt.ylabel (\"Humidity (%)\")\n",
    "\n",
    "#axes limits\n",
    "plt.ylim(0, 100)\n",
    "plt.xlim(0, 80)\n",
    "\n",
    "#display the plot \n",
    "plt.show()\n",
    "\n",
    "#save image\n",
    "plt.savefig(\"Images/nh_lat_humidity_regression.png\")"
   ]
  },
  {
   "cell_type": "markdown",
   "metadata": {},
   "source": [
    "####  Southern Hemisphere - Humidity (%) vs. Latitude Linear Regression"
   ]
  },
  {
   "cell_type": "code",
   "execution_count": 133,
   "metadata": {},
   "outputs": [
    {
     "name": "stdout",
     "output_type": "stream",
     "text": [
      "The correlation between southern hemisphere latitude and humidity is 0.13.\n"
     ]
    },
    {
     "data": {
      "image/png": "[encoded data removed]",
      "text/plain": [
       "<Figure size 432x288 with 1 Axes>"
      ]
     },
     "metadata": {
      "needs_background": "light"
     },
     "output_type": "display_data"
    },
    {
     "data": {
      "text/plain": [
       "<Figure size 432x288 with 0 Axes>"
      ]
     },
     "metadata": {},
     "output_type": "display_data"
    }
   ],
   "source": [
    "#determine St. Pearson Correlation Coefficient\n",
    "correlation = round(st.pearsonr(southern_hemisphere[\"Lat\"], southern_hemisphere[\"Humidity\"])[0],2)\n",
    "\n",
    "#print St. Pearson Correlation Coefficient\n",
    "print(f\"The correlation between southern hemisphere latitude and humidity is {correlation:.2f}.\")\n",
    "\n",
    "# establish linear regression values\n",
    "model = st.linregress(southern_hemisphere[\"Lat\"], southern_hemisphere[\"Humidity\"])\n",
    "\n",
    "# linear regression line \n",
    "yvalues = (southern_hemisphere[\"Lat\"] * model[0]) + model[1]\n",
    "line_eq = \"y = \" + str(round(model[0],2)) + \"x + \" + str(round(model[1],2))\n",
    "\n",
    "# scatter plot of the data\n",
    "plt.scatter(southern_hemisphere[\"Lat\"], southern_hemisphere[\"Humidity\"])\n",
    "plt.plot(southern_hemisphere[\"Lat\"], yvalues, color = \"red\")\n",
    "\n",
    "#annotation and labels\n",
    "plt.annotate(line_eq,(-55, 20),fontsize=12,color=\"red\")\n",
    "plt.xlabel (\"Southern Hemisphere Latitude\")\n",
    "plt.ylabel (\"Humidity (%)\")\n",
    "\n",
    "#axes limits\n",
    "plt.ylim(0, 100)\n",
    "plt.xlim(-60, 0)\n",
    "\n",
    "#display the plot\n",
    "plt.show()\n",
    "\n",
    "#save image\n",
    "plt.savefig(\"Images/sh_lat_humidity_regression.png\")"
   ]
  },
  {
   "cell_type": "markdown",
   "metadata": {},
   "source": [
    "####  Northern Hemisphere - Cloudiness (%) vs. Latitude Linear Regression"
   ]
  },
  {
   "cell_type": "code",
   "execution_count": 134,
   "metadata": {},
   "outputs": [
    {
     "name": "stdout",
     "output_type": "stream",
     "text": [
      "The correlation between northern hemisphere latitude and cloudiness is 0.17.\n"
     ]
    },
    {
     "data": {
      "image/png": "[encoded data removed]",
      "text/plain": [
       "<Figure size 432x288 with 1 Axes>"
      ]
     },
     "metadata": {
      "needs_background": "light"
     },
     "output_type": "display_data"
    },
    {
     "data": {
      "text/plain": [
       "<Figure size 432x288 with 0 Axes>"
      ]
     },
     "metadata": {},
     "output_type": "display_data"
    }
   ],
   "source": [
    "#determine St. Pearson Correlation Coefficient\n",
    "correlation = round(st.pearsonr(northern_hemisphere[\"Lat\"], northern_hemisphere[\"Cloudiness\"])[0],2)\n",
    "\n",
    "#print St. Pearson Correlation Coefficient\n",
    "print(f\"The correlation between northern hemisphere latitude and cloudiness is {correlation:.2f}.\")\n",
    "\n",
    "# establish linear regression values\n",
    "model = st.linregress(northern_hemisphere[\"Lat\"], northern_hemisphere[\"Cloudiness\"])\n",
    "\n",
    "# linear regression line \n",
    "yvalues = (northern_hemisphere[\"Lat\"] * model[0]) + model[1]\n",
    "line_eq = \"y = \" + str(round(model[0],2)) + \"x + \" + str(round(model[1],2))\n",
    "\n",
    "# scatter plot of the data\n",
    "plt.scatter(northern_hemisphere[\"Lat\"], northern_hemisphere[\"Cloudiness\"])\n",
    "plt.plot(northern_hemisphere[\"Lat\"], yvalues, color = \"red\")\n",
    "\n",
    "#annotiation and labels\n",
    "plt.annotate(line_eq,(53, 10),fontsize=12,color=\"red\")\n",
    "plt.xlabel (\"Northern Hemisphere Latitude\")\n",
    "plt.ylabel (\"Cloudiness (%)\")\n",
    "\n",
    "#axes limits\n",
    "plt.ylim(0, 100)\n",
    "plt.xlim(0, 80)\n",
    "\n",
    "#display the plot\n",
    "plt.show()\n",
    "\n",
    "#save image\n",
    "plt.savefig(\"Images/nh_lat_cloudiness_regression.png\")"
   ]
  },
  {
   "cell_type": "markdown",
   "metadata": {},
   "source": [
    "####  Southern Hemisphere - Cloudiness (%) vs. Latitude Linear Regression"
   ]
  },
  {
   "cell_type": "code",
   "execution_count": 135,
   "metadata": {},
   "outputs": [
    {
     "name": "stdout",
     "output_type": "stream",
     "text": [
      "The correlation between southern hemisphere latitude and cloudiness is 0.28.\n"
     ]
    },
    {
     "data": {
      "image/png": "[encoded data removed]",
      "text/plain": [
       "<Figure size 432x288 with 1 Axes>"
      ]
     },
     "metadata": {
      "needs_background": "light"
     },
     "output_type": "display_data"
    },
    {
     "data": {
      "text/plain": [
       "<Figure size 432x288 with 0 Axes>"
      ]
     },
     "metadata": {},
     "output_type": "display_data"
    }
   ],
   "source": [
    "#determine St. Pearson Correlation Coefficient\n",
    "correlation = round(st.pearsonr(southern_hemisphere[\"Lat\"], southern_hemisphere[\"Cloudiness\"])[0],2)\n",
    "\n",
    "#print St. Pearson Correlation Coefficient\n",
    "print(f\"The correlation between southern hemisphere latitude and cloudiness is {correlation:.2f}.\")\n",
    "\n",
    "# establish linear regression values\n",
    "model = st.linregress(southern_hemisphere[\"Lat\"], southern_hemisphere[\"Cloudiness\"])\n",
    "\n",
    "# linear regression line \n",
    "yvalues = (southern_hemisphere[\"Lat\"] * model[0]) + model[1]\n",
    "line_eq = \"y = \" + str(round(model[0],2)) + \"x + \" + str(round(model[1],2))\n",
    "\n",
    "# scatter plot of the data\n",
    "plt.scatter(southern_hemisphere[\"Lat\"], southern_hemisphere[\"Cloudiness\"])\n",
    "plt.plot(southern_hemisphere[\"Lat\"], yvalues, color = \"red\")\n",
    "\n",
    "#annotation and labels\n",
    "plt.annotate(line_eq,(-55, 47),fontsize=12,color=\"red\")\n",
    "plt.xlabel (\"Southern Hemisphere Latitude\")\n",
    "plt.ylabel (\"Cloudines (%)\")\n",
    "\n",
    "#axes limits\n",
    "plt.ylim(0, 100)\n",
    "plt.xlim(-60, 0)\n",
    "\n",
    "#display the plot\n",
    "plt.show()\n",
    "\n",
    "#save image\n",
    "plt.savefig(\"Images/sh_lat_cloudiness_regression.png\")"
   ]
  },
  {
   "cell_type": "markdown",
   "metadata": {},
   "source": [
    "####  Northern Hemisphere - Wind Speed (mph) vs. Latitude Linear Regression"
   ]
  },
  {
   "cell_type": "code",
   "execution_count": 136,
   "metadata": {},
   "outputs": [
    {
     "name": "stdout",
     "output_type": "stream",
     "text": [
      "The correlation between northern hemisphere latitude and wind speed is 0.24.\n"
     ]
    },
    {
     "data": {
      "image/png": "[encoded data removed]",
      "text/plain": [
       "<Figure size 432x288 with 1 Axes>"
      ]
     },
     "metadata": {
      "needs_background": "light"
     },
     "output_type": "display_data"
    },
    {
     "data": {
      "text/plain": [
       "<Figure size 432x288 with 0 Axes>"
      ]
     },
     "metadata": {},
     "output_type": "display_data"
    }
   ],
   "source": [
    "#determine St. Pearson Correlation Coefficient\n",
    "correlation = round(st.pearsonr(northern_hemisphere[\"Lat\"], northern_hemisphere[\"Wind Speed\"])[0],2)\n",
    "\n",
    "#print St. Pearson Correlation Coefficient\n",
    "print(f\"The correlation between northern hemisphere latitude and wind speed is {correlation:.2f}.\")\n",
    "\n",
    "# establish linear regression values\n",
    "model = st.linregress(northern_hemisphere[\"Lat\"], northern_hemisphere[\"Wind Speed\"])\n",
    "\n",
    "# linear regression line \n",
    "yvalues = (northern_hemisphere[\"Lat\"] * model[0]) + model[1]\n",
    "line_eq = \"y = \" + str(round(model[0],2)) + \"x + \" + str(round(model[1],2))\n",
    "\n",
    "# scatter plot of the data\n",
    "plt.scatter(northern_hemisphere[\"Lat\"], northern_hemisphere[\"Wind Speed\"])\n",
    "plt.plot(northern_hemisphere[\"Lat\"], yvalues, color = \"red\")\n",
    "\n",
    "#annotation and labels\n",
    "plt.annotate(line_eq,(10, 30),fontsize=12,color=\"red\")\n",
    "plt.xlabel (\"Northern Hemisphere Latitude\")\n",
    "plt.ylabel (\"Wind Speed (mph)\")\n",
    "\n",
    "#axes limits\n",
    "plt.ylim(0, 40)\n",
    "plt.xlim(0, 80)\n",
    "\n",
    "#display the plot\n",
    "plt.show()\n",
    "\n",
    "#save image\n",
    "plt.savefig(\"Images/nh_lat_windspeed_regression.png\")"
   ]
  },
  {
   "cell_type": "markdown",
   "metadata": {},
   "source": [
    "####  Southern Hemisphere - Wind Speed (mph) vs. Latitude Linear Regression"
   ]
  },
  {
   "cell_type": "code",
   "execution_count": 137,
   "metadata": {},
   "outputs": [
    {
     "name": "stdout",
     "output_type": "stream",
     "text": [
      "The correlation between southern hemisphere latitude and wind speed is -0.12.\n"
     ]
    },
    {
     "data": {
      "image/png": "[encoded data removed]",
      "text/plain": [
       "<Figure size 432x288 with 1 Axes>"
      ]
     },
     "metadata": {
      "needs_background": "light"
     },
     "output_type": "display_data"
    },
    {
     "data": {
      "text/plain": [
       "<Figure size 432x288 with 0 Axes>"
      ]
     },
     "metadata": {},
     "output_type": "display_data"
    }
   ],
   "source": [
    "#determine St. Pearson Correlation Coefficient\n",
    "correlation = round(st.pearsonr(southern_hemisphere[\"Lat\"], southern_hemisphere[\"Wind Speed\"])[0],2)\n",
    "\n",
    "#print St. Pearson Correlation Coefficient\n",
    "print(f\"The correlation between southern hemisphere latitude and wind speed is {correlation:.2f}.\")\n",
    "\n",
    "# establish linear regression values\n",
    "model = st.linregress(southern_hemisphere[\"Lat\"], southern_hemisphere[\"Wind Speed\"])\n",
    "\n",
    "# linear regression line \n",
    "yvalues = (southern_hemisphere[\"Lat\"] * model[0]) + model[1]\n",
    "line_eq = \"y = \" + str(round(model[0],2)) + \"x + \" + str(round(model[1],2))\n",
    "\n",
    "# scatter plot of the data\n",
    "plt.scatter(southern_hemisphere[\"Lat\"], southern_hemisphere[\"Wind Speed\"])\n",
    "plt.plot(southern_hemisphere[\"Lat\"], yvalues, color = \"red\")\n",
    "\n",
    "#annotation and labels\n",
    "plt.annotate(line_eq,(-55, 25),fontsize=12,color=\"red\")\n",
    "plt.xlabel (\"Southern Hemisphere Latitude\")\n",
    "plt.ylabel (\"Wind Speed (mph)\")\n",
    "\n",
    "#axes limits\n",
    "plt.ylim(0, 40)\n",
    "plt.xlim(-60, 0)\n",
    "\n",
    "#display the plot\n",
    "plt.show()\n",
    "\n",
    "#save image\n",
    "plt.savefig(\"Images/sh_lat_windspeed_regression.png\")"
   ]
  },
  {
   "cell_type": "code",
   "execution_count": null,
   "metadata": {},
   "outputs": [],
   "source": []
  }
 ],
 "metadata": {
  "anaconda-cloud": {},
  "kernel_info": {
   "name": "python3"
  },
  "kernelspec": {
   "display_name": "Python 3",
   "language": "python",
   "name": "python3"
  },
  "language_info": {
   "codemirror_mode": {
    "name": "ipython",
    "version": 3
   },
   "file_extension": ".py",
   "mimetype": "text/x-python",
   "name": "python",
   "nbconvert_exporter": "python",
   "pygments_lexer": "ipython3",
   "version": "3.8.8"
  },
  "latex_envs": {
   "LaTeX_envs_menu_present": true,
   "autoclose": false,
   "autocomplete": true,
   "bibliofile": "biblio.bib",
   "cite_by": "apalike",
   "current_citInitial": 1,
   "eqLabelWithNumbers": true,
   "eqNumInitial": 1,
   "hotkeys": {
    "equation": "Ctrl-E",
    "itemize": "Ctrl-I"
   },
   "labels_anchors": false,
   "latex_user_defs": false,
   "report_style_numbering": false,
   "user_envs_cfg": false
  },
  "nteract": {
   "version": "0.12.3"
  }
 },
 "nbformat": 4,
 "nbformat_minor": 2
}
