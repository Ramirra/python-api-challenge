{
 "cells": [
  {
   "cell_type": "markdown",
   "metadata": {},
   "source": [
    "# WeatherPy\n",
    "----\n",
    "\n",
    "#### Note\n",
    "* Instructions have been included for each segment. You do not have to follow them exactly, but they are included to help you think through the steps."
   ]
  },
  {
   "cell_type": "code",
   "execution_count": 1,
   "metadata": {
    "scrolled": true
   },
   "outputs": [],
   "source": [
    "# Dependencies and Setup\n",
    "import matplotlib.pyplot as plt\n",
    "import pandas as pd\n",
    "import numpy as np\n",
    "import requests\n",
    "import time\n",
    "import scipy.stats as st\n",
    "from scipy.stats import linregress\n",
    "from pprint import pprint\n",
    "\n",
    "# Import API key\n",
    "from api_keys import weather_api_key\n",
    "\n",
    "# Incorporated citipy to determine city based on latitude and longitude\n",
    "from citipy import citipy\n",
    "\n",
    "# Output File (CSV)\n",
    "output_data_file = \"Output_Data/city_weather.csv\"\n",
    "\n",
    "# Range of latitudes and longitudes\n",
    "lat_range = (-90, 90)\n",
    "lng_range = (-180, 180)"
   ]
  },
  {
   "cell_type": "markdown",
   "metadata": {},
   "source": [
    "## Generate Cities List"
   ]
  },
  {
   "cell_type": "code",
   "execution_count": 2,
   "metadata": {},
   "outputs": [
    {
     "data": {
      "text/plain": [
       "636"
      ]
     },
     "execution_count": 2,
     "metadata": {},
     "output_type": "execute_result"
    }
   ],
   "source": [
    "# List for holding lat_lngs and cities\n",
    "lat_lngs = []\n",
    "cities = []\n",
    "\n",
    "# Create a set of random lat and lng combinations\n",
    "lats = np.random.uniform(lat_range[0], lat_range[1], size=1500)\n",
    "lngs = np.random.uniform(lng_range[0], lng_range[1], size=1500)\n",
    "lat_lngs = zip(lats, lngs)\n",
    "\n",
    "# Identify nearest city for each lat, lng combination\n",
    "for lat_lng in lat_lngs:\n",
    "    city = citipy.nearest_city(lat_lng[0], lat_lng[1]).city_name\n",
    "    \n",
    "    # If the city is unique, then add it to a our cities list\n",
    "    if city not in cities:\n",
    "        cities.append(city)\n",
    "\n",
    "# Print the city count to confirm sufficient count\n",
    "len(cities)"
   ]
  },
  {
   "cell_type": "markdown",
   "metadata": {},
   "source": [
    "### Perform API Calls\n",
    "* Perform a weather check on each city using a series of successive API calls.\n",
    "* Include a print log of each city as it'sbeing processed (with the city number and city name).\n"
   ]
  },
  {
   "cell_type": "code",
   "execution_count": 3,
   "metadata": {},
   "outputs": [
    {
     "name": "stdout",
     "output_type": "stream",
     "text": [
      "Beginning Data Retrieval\n",
      "------------------------\n",
      "City not found - skipping.\n",
      "Processing Record 0 of Set 1 | namibe\n",
      "Processing Record 1 of Set 1 | busselton\n",
      "Processing Record 2 of Set 1 | flinders\n",
      "Processing Record 3 of Set 1 | grindavik\n",
      "Processing Record 4 of Set 1 | port alfred\n",
      "Processing Record 5 of Set 1 | grenfell\n",
      "Processing Record 6 of Set 1 | yellowknife\n",
      "Processing Record 7 of Set 1 | hermanus\n",
      "Processing Record 8 of Set 1 | esperance\n",
      "Processing Record 9 of Set 1 | albany\n",
      "Processing Record 10 of Set 1 | airai\n",
      "Processing Record 11 of Set 1 | muros\n",
      "City not found - skipping.\n",
      "Processing Record 12 of Set 1 | rikitea\n",
      "Processing Record 13 of Set 1 | punta arenas\n",
      "Processing Record 14 of Set 1 | ballina\n",
      "Processing Record 15 of Set 1 | lebu\n",
      "Processing Record 16 of Set 1 | uberaba\n",
      "Processing Record 17 of Set 1 | bethel\n",
      "Processing Record 18 of Set 1 | atherton\n",
      "Processing Record 19 of Set 1 | lunenburg\n",
      "Processing Record 20 of Set 1 | ushuaia\n",
      "Processing Record 21 of Set 1 | saskylakh\n",
      "Processing Record 22 of Set 1 | mitu\n",
      "Processing Record 23 of Set 1 | dossor\n",
      "Processing Record 24 of Set 1 | corinto\n",
      "Processing Record 25 of Set 1 | baruun-urt\n",
      "Processing Record 26 of Set 1 | barsovo\n",
      "Processing Record 27 of Set 1 | susanville\n",
      "Processing Record 28 of Set 1 | costinesti\n",
      "Processing Record 29 of Set 1 | chokurdakh\n",
      "Processing Record 30 of Set 1 | san patricio\n",
      "Processing Record 31 of Set 1 | kanye\n",
      "Processing Record 32 of Set 1 | east london\n",
      "Processing Record 33 of Set 1 | longyearbyen\n",
      "Processing Record 34 of Set 1 | mataura\n",
      "Processing Record 35 of Set 1 | mogok\n",
      "Processing Record 36 of Set 1 | papetoai\n",
      "City not found - skipping.\n",
      "Processing Record 37 of Set 1 | jamestown\n",
      "Processing Record 38 of Set 1 | pisco\n",
      "City not found - skipping.\n",
      "Processing Record 39 of Set 1 | saint anthony\n",
      "Processing Record 40 of Set 1 | bredasdorp\n",
      "Processing Record 41 of Set 1 | isangel\n",
      "Processing Record 42 of Set 1 | korla\n",
      "City not found - skipping.\n",
      "Processing Record 43 of Set 1 | vestmanna\n",
      "Processing Record 44 of Set 1 | sovetskiy\n",
      "Processing Record 45 of Set 1 | hilo\n",
      "Processing Record 46 of Set 1 | codrington\n",
      "Processing Record 47 of Set 1 | atuona\n",
      "Processing Record 48 of Set 1 | ancud\n",
      "Processing Record 49 of Set 1 | nuevo progreso\n",
      "Processing Record 50 of Set 1 | mount gambier\n",
      "Processing Record 0 of Set 2 | port blair\n",
      "Processing Record 1 of Set 2 | norman wells\n",
      "Processing Record 2 of Set 2 | chimoio\n",
      "City not found - skipping.\n",
      "Processing Record 3 of Set 2 | palatka\n",
      "Processing Record 4 of Set 2 | usinsk\n",
      "Processing Record 5 of Set 2 | shizunai\n",
      "Processing Record 6 of Set 2 | shingu\n",
      "City not found - skipping.\n",
      "Processing Record 7 of Set 2 | vaini\n",
      "Processing Record 8 of Set 2 | lompoc\n",
      "Processing Record 9 of Set 2 | muncar\n",
      "Processing Record 10 of Set 2 | asau\n",
      "Processing Record 11 of Set 2 | mongu\n",
      "Processing Record 12 of Set 2 | sao filipe\n",
      "Processing Record 13 of Set 2 | qaanaaq\n",
      "Processing Record 14 of Set 2 | phek\n",
      "Processing Record 15 of Set 2 | bluff\n",
      "Processing Record 16 of Set 2 | guerrero negro\n",
      "Processing Record 17 of Set 2 | puerto escondido\n",
      "Processing Record 18 of Set 2 | tuktoyaktuk\n",
      "Processing Record 19 of Set 2 | saint-philippe\n",
      "Processing Record 20 of Set 2 | katsuura\n",
      "Processing Record 21 of Set 2 | khatanga\n",
      "Processing Record 22 of Set 2 | capitan bado\n",
      "Processing Record 23 of Set 2 | anadyr\n",
      "City not found - skipping.\n",
      "Processing Record 24 of Set 2 | salalah\n",
      "Processing Record 25 of Set 2 | biltine\n",
      "City not found - skipping.\n",
      "Processing Record 26 of Set 2 | new norfolk\n",
      "Processing Record 27 of Set 2 | ushumun\n",
      "Processing Record 28 of Set 2 | georgetown\n",
      "Processing Record 29 of Set 2 | grand gaube\n",
      "Processing Record 30 of Set 2 | dunedin\n",
      "Processing Record 31 of Set 2 | owase\n",
      "City not found - skipping.\n",
      "Processing Record 32 of Set 2 | upernavik\n",
      "Processing Record 33 of Set 2 | daru\n",
      "Processing Record 34 of Set 2 | cidreira\n",
      "Processing Record 35 of Set 2 | thompson\n",
      "Processing Record 36 of Set 2 | barrow\n",
      "Processing Record 37 of Set 2 | pevek\n",
      "Processing Record 38 of Set 2 | vila velha\n",
      "Processing Record 39 of Set 2 | ayan\n",
      "Processing Record 40 of Set 2 | okhotsk\n",
      "Processing Record 41 of Set 2 | saint-paul\n",
      "Processing Record 42 of Set 2 | nanortalik\n",
      "Processing Record 43 of Set 2 | paita\n",
      "Processing Record 44 of Set 2 | puerto ayora\n",
      "Processing Record 45 of Set 2 | uyuni\n",
      "Processing Record 46 of Set 2 | los llanos de aridane\n",
      "Processing Record 47 of Set 2 | mabaruma\n",
      "City not found - skipping.\n",
      "City not found - skipping.\n",
      "Processing Record 48 of Set 2 | avarua\n",
      "Processing Record 49 of Set 2 | farah\n",
      "Processing Record 50 of Set 2 | labuhan\n",
      "Processing Record 0 of Set 3 | toguchin\n",
      "Processing Record 1 of Set 3 | yarkovo\n",
      "Processing Record 2 of Set 3 | skegness\n",
      "Processing Record 3 of Set 3 | belyy yar\n",
      "Processing Record 4 of Set 3 | nuuk\n",
      "City not found - skipping.\n",
      "Processing Record 5 of Set 3 | moche\n",
      "Processing Record 6 of Set 3 | shimanovsk\n",
      "Processing Record 7 of Set 3 | butaritari\n",
      "Processing Record 8 of Set 3 | kodiak\n",
      "Processing Record 9 of Set 3 | tucuman\n",
      "Processing Record 10 of Set 3 | along\n",
      "Processing Record 11 of Set 3 | ternate\n",
      "Processing Record 12 of Set 3 | aksu\n",
      "Processing Record 13 of Set 3 | port macquarie\n",
      "Processing Record 14 of Set 3 | cherskiy\n",
      "Processing Record 15 of Set 3 | lorengau\n",
      "Processing Record 16 of Set 3 | hithadhoo\n",
      "Processing Record 17 of Set 3 | port hedland\n",
      "Processing Record 18 of Set 3 | vanderhoof\n",
      "Processing Record 19 of Set 3 | karlskrona\n",
      "Processing Record 20 of Set 3 | paragominas\n",
      "Processing Record 21 of Set 3 | cockburn town\n",
      "Processing Record 22 of Set 3 | mongo\n",
      "Processing Record 23 of Set 3 | parrita\n",
      "Processing Record 24 of Set 3 | bloemfontein\n",
      "Processing Record 25 of Set 3 | loandjili\n",
      "Processing Record 26 of Set 3 | hobart\n",
      "Processing Record 27 of Set 3 | alofi\n",
      "Processing Record 28 of Set 3 | plouzane\n",
      "Processing Record 29 of Set 3 | victoria\n",
      "Processing Record 30 of Set 3 | porosozero\n",
      "Processing Record 31 of Set 3 | provideniya\n",
      "Processing Record 32 of Set 3 | faya\n",
      "Processing Record 33 of Set 3 | kamina\n",
      "Processing Record 34 of Set 3 | kaitangata\n",
      "Processing Record 35 of Set 3 | glinka\n",
      "Processing Record 36 of Set 3 | kapaa\n",
      "Processing Record 37 of Set 3 | sao joao da barra\n",
      "City not found - skipping.\n",
      "Processing Record 38 of Set 3 | marfino\n",
      "Processing Record 39 of Set 3 | northam\n",
      "Processing Record 40 of Set 3 | jining\n",
      "Processing Record 41 of Set 3 | idritsa\n",
      "Processing Record 42 of Set 3 | villazon\n",
      "Processing Record 43 of Set 3 | ararangua\n",
      "Processing Record 44 of Set 3 | castro\n",
      "Processing Record 45 of Set 3 | talara\n",
      "Processing Record 46 of Set 3 | atambua\n",
      "Processing Record 47 of Set 3 | solnechnyy\n",
      "Processing Record 48 of Set 3 | naze\n",
      "Processing Record 49 of Set 3 | aklavik\n",
      "Processing Record 50 of Set 3 | ahipara\n",
      "Processing Record 0 of Set 4 | prince rupert\n",
      "Processing Record 1 of Set 4 | ineu\n",
      "Processing Record 2 of Set 4 | keelung\n",
      "Processing Record 3 of Set 4 | namatanai\n",
      "Processing Record 4 of Set 4 | gat\n",
      "Processing Record 5 of Set 4 | tuatapere\n",
      "Processing Record 6 of Set 4 | tasiilaq\n",
      "Processing Record 7 of Set 4 | babu\n",
      "Processing Record 8 of Set 4 | ukiah\n",
      "Processing Record 9 of Set 4 | lerik\n",
      "Processing Record 10 of Set 4 | whitianga\n",
      "Processing Record 11 of Set 4 | sandur\n",
      "Processing Record 12 of Set 4 | lokosovo\n",
      "Processing Record 13 of Set 4 | buala\n",
      "Processing Record 14 of Set 4 | hanmer springs\n",
      "City not found - skipping.\n",
      "Processing Record 15 of Set 4 | souillac\n",
      "Processing Record 16 of Set 4 | saldanha\n",
      "Processing Record 17 of Set 4 | cam ranh\n",
      "Processing Record 18 of Set 4 | krasnovishersk\n",
      "Processing Record 19 of Set 4 | arraial do cabo\n",
      "Processing Record 20 of Set 4 | baracoa\n",
      "Processing Record 21 of Set 4 | nemuro\n",
      "Processing Record 22 of Set 4 | ostersund\n",
      "Processing Record 23 of Set 4 | mount juliet\n",
      "Processing Record 24 of Set 4 | port elizabeth\n",
      "Processing Record 25 of Set 4 | la carolina\n",
      "Processing Record 26 of Set 4 | fairbanks\n",
      "Processing Record 27 of Set 4 | petropavlovsk-kamchatskiy\n",
      "Processing Record 28 of Set 4 | visegrad\n",
      "Processing Record 29 of Set 4 | poum\n",
      "Processing Record 30 of Set 4 | visby\n",
      "Processing Record 31 of Set 4 | luderitz\n",
      "Processing Record 32 of Set 4 | alyangula\n",
      "Processing Record 33 of Set 4 | two hills\n",
      "Processing Record 34 of Set 4 | agua dulce\n",
      "Processing Record 35 of Set 4 | murgab\n"
     ]
    },
    {
     "name": "stdout",
     "output_type": "stream",
     "text": [
      "Processing Record 36 of Set 4 | taoudenni\n",
      "Processing Record 37 of Set 4 | port lincoln\n",
      "Processing Record 38 of Set 4 | carnarvon\n",
      "Processing Record 39 of Set 4 | kantang\n",
      "Processing Record 40 of Set 4 | honiara\n",
      "Processing Record 41 of Set 4 | bari\n",
      "Processing Record 42 of Set 4 | mangrol\n",
      "Processing Record 43 of Set 4 | alta floresta\n",
      "Processing Record 44 of Set 4 | nouadhibou\n",
      "Processing Record 45 of Set 4 | buraydah\n",
      "Processing Record 46 of Set 4 | erdenet\n",
      "City not found - skipping.\n",
      "Processing Record 47 of Set 4 | alekseyevsk\n",
      "Processing Record 48 of Set 4 | kongoussi\n",
      "Processing Record 49 of Set 4 | arlit\n",
      "City not found - skipping.\n",
      "Processing Record 50 of Set 4 | coromandel\n",
      "Processing Record 0 of Set 5 | jacqueville\n",
      "City not found - skipping.\n",
      "Processing Record 1 of Set 5 | kieta\n",
      "Processing Record 2 of Set 5 | peace river\n",
      "Processing Record 3 of Set 5 | hamilton\n",
      "City not found - skipping.\n",
      "Processing Record 4 of Set 5 | baturaja\n",
      "Processing Record 5 of Set 5 | dingle\n",
      "Processing Record 6 of Set 5 | constitucion\n",
      "Processing Record 7 of Set 5 | robertsport\n",
      "Processing Record 8 of Set 5 | tiksi\n",
      "City not found - skipping.\n",
      "Processing Record 9 of Set 5 | fort nelson\n",
      "Processing Record 10 of Set 5 | muroto\n",
      "Processing Record 11 of Set 5 | kloulklubed\n",
      "Processing Record 12 of Set 5 | boundiali\n",
      "Processing Record 13 of Set 5 | kutoarjo\n",
      "Processing Record 14 of Set 5 | ossora\n",
      "Processing Record 15 of Set 5 | qasigiannguit\n",
      "Processing Record 16 of Set 5 | qui nhon\n",
      "Processing Record 17 of Set 5 | fukue\n",
      "Processing Record 18 of Set 5 | progreso\n",
      "Processing Record 19 of Set 5 | mnogovershinnyy\n",
      "Processing Record 20 of Set 5 | normandin\n",
      "Processing Record 21 of Set 5 | baykit\n",
      "Processing Record 22 of Set 5 | dina\n",
      "Processing Record 23 of Set 5 | ikwiriri\n",
      "Processing Record 24 of Set 5 | hovd\n",
      "Processing Record 25 of Set 5 | egvekinot\n",
      "Processing Record 26 of Set 5 | bangui\n",
      "Processing Record 27 of Set 5 | charters towers\n",
      "Processing Record 28 of Set 5 | wanaka\n",
      "Processing Record 29 of Set 5 | ayr\n",
      "Processing Record 30 of Set 5 | sao lourenco do sul\n",
      "City not found - skipping.\n",
      "Processing Record 31 of Set 5 | kyzburun pervyy\n",
      "Processing Record 32 of Set 5 | pokrovsk\n",
      "Processing Record 33 of Set 5 | rock sound\n",
      "Processing Record 34 of Set 5 | rabaul\n",
      "Processing Record 35 of Set 5 | ribeira grande\n",
      "Processing Record 36 of Set 5 | vanimo\n",
      "Processing Record 37 of Set 5 | rabo de peixe\n",
      "Processing Record 38 of Set 5 | chotila\n",
      "Processing Record 39 of Set 5 | avera\n",
      "Processing Record 40 of Set 5 | seguela\n",
      "Processing Record 41 of Set 5 | smithers\n",
      "City not found - skipping.\n",
      "Processing Record 42 of Set 5 | najran\n",
      "Processing Record 43 of Set 5 | kilindoni\n",
      "Processing Record 44 of Set 5 | broome\n",
      "Processing Record 45 of Set 5 | zhigansk\n",
      "Processing Record 46 of Set 5 | alice springs\n",
      "Processing Record 47 of Set 5 | arilje\n",
      "Processing Record 48 of Set 5 | koroni\n",
      "City not found - skipping.\n",
      "Processing Record 49 of Set 5 | krasnotorka\n",
      "Processing Record 50 of Set 5 | miyako\n",
      "Processing Record 0 of Set 6 | chuy\n",
      "Processing Record 1 of Set 6 | ginda\n",
      "Processing Record 2 of Set 6 | hasaki\n",
      "Processing Record 3 of Set 6 | puerto narino\n",
      "Processing Record 4 of Set 6 | fortuna\n",
      "Processing Record 5 of Set 6 | pedasi\n",
      "Processing Record 6 of Set 6 | sunds\n",
      "Processing Record 7 of Set 6 | samarai\n",
      "Processing Record 8 of Set 6 | te anau\n",
      "Processing Record 9 of Set 6 | vestmannaeyjar\n",
      "Processing Record 10 of Set 6 | coracora\n",
      "Processing Record 11 of Set 6 | singkang\n",
      "Processing Record 12 of Set 6 | aykhal\n",
      "Processing Record 13 of Set 6 | ottawa\n",
      "Processing Record 14 of Set 6 | margate\n",
      "Processing Record 15 of Set 6 | berlevag\n",
      "Processing Record 16 of Set 6 | faanui\n",
      "Processing Record 17 of Set 6 | poli\n",
      "Processing Record 18 of Set 6 | saint george\n",
      "Processing Record 19 of Set 6 | port hardy\n",
      "Processing Record 20 of Set 6 | darlington\n",
      "Processing Record 21 of Set 6 | san cristobal\n",
      "Processing Record 22 of Set 6 | moscow\n",
      "City not found - skipping.\n",
      "Processing Record 23 of Set 6 | cabo san lucas\n",
      "Processing Record 24 of Set 6 | roma\n",
      "Processing Record 25 of Set 6 | cypress gardens\n",
      "Processing Record 26 of Set 6 | vegreville\n",
      "Processing Record 27 of Set 6 | huacho\n",
      "Processing Record 28 of Set 6 | lagunas\n",
      "Processing Record 29 of Set 6 | kaputa\n",
      "Processing Record 30 of Set 6 | bengkulu\n",
      "Processing Record 31 of Set 6 | necochea\n",
      "Processing Record 32 of Set 6 | cape town\n",
      "Processing Record 33 of Set 6 | san lorenzo\n",
      "Processing Record 34 of Set 6 | coquimbo\n",
      "Processing Record 35 of Set 6 | kalangala\n",
      "Processing Record 36 of Set 6 | sao jose da coroa grande\n",
      "Processing Record 37 of Set 6 | urubicha\n",
      "Processing Record 38 of Set 6 | carupano\n",
      "City not found - skipping.\n",
      "Processing Record 39 of Set 6 | kawhia\n",
      "Processing Record 40 of Set 6 | piran\n",
      "Processing Record 41 of Set 6 | canton\n",
      "Processing Record 42 of Set 6 | geraldton\n",
      "Processing Record 43 of Set 6 | okha\n",
      "Processing Record 44 of Set 6 | campoverde\n",
      "Processing Record 45 of Set 6 | hami\n",
      "City not found - skipping.\n",
      "Processing Record 46 of Set 6 | itarema\n",
      "Processing Record 47 of Set 6 | laguna\n",
      "Processing Record 48 of Set 6 | pavlovo\n",
      "Processing Record 49 of Set 6 | severo-kurilsk\n",
      "Processing Record 50 of Set 6 | krasnoarmeysk\n",
      "Processing Record 0 of Set 7 | roald\n",
      "Processing Record 1 of Set 7 | mehamn\n",
      "Processing Record 2 of Set 7 | brewster\n",
      "City not found - skipping.\n",
      "Processing Record 3 of Set 7 | saint-pierre\n",
      "Processing Record 4 of Set 7 | ivanava\n",
      "Processing Record 5 of Set 7 | ngemplak\n",
      "Processing Record 6 of Set 7 | portland\n",
      "Processing Record 7 of Set 7 | klaksvik\n",
      "Processing Record 8 of Set 7 | aksay\n",
      "Processing Record 9 of Set 7 | hokitika\n",
      "Processing Record 10 of Set 7 | borba\n",
      "Processing Record 11 of Set 7 | caete\n",
      "Processing Record 12 of Set 7 | lodja\n",
      "Processing Record 13 of Set 7 | tomatlan\n",
      "Processing Record 14 of Set 7 | coria\n",
      "Processing Record 15 of Set 7 | novoutkinsk\n",
      "Processing Record 16 of Set 7 | torbay\n",
      "Processing Record 17 of Set 7 | coos bay\n",
      "Processing Record 18 of Set 7 | eureka\n",
      "Processing Record 19 of Set 7 | ulaangom\n",
      "Processing Record 20 of Set 7 | labytnangi\n",
      "Processing Record 21 of Set 7 | nanakuli\n",
      "Processing Record 22 of Set 7 | sinop\n",
      "Processing Record 23 of Set 7 | hare bay\n",
      "Processing Record 24 of Set 7 | banjar\n",
      "Processing Record 25 of Set 7 | channel-port aux basques\n",
      "Processing Record 26 of Set 7 | ostrovnoy\n",
      "Processing Record 27 of Set 7 | caravelas\n",
      "Processing Record 28 of Set 7 | dikson\n",
      "Processing Record 29 of Set 7 | sitka\n",
      "Processing Record 30 of Set 7 | concordia\n",
      "Processing Record 31 of Set 7 | denham springs\n",
      "Processing Record 32 of Set 7 | tabuk\n",
      "Processing Record 33 of Set 7 | fontem\n",
      "Processing Record 34 of Set 7 | olafsvik\n",
      "Processing Record 35 of Set 7 | ust-karsk\n",
      "Processing Record 36 of Set 7 | jieshou\n",
      "Processing Record 37 of Set 7 | ishurdi\n",
      "Processing Record 38 of Set 7 | abashiri\n",
      "Processing Record 39 of Set 7 | gravdal\n",
      "Processing Record 40 of Set 7 | zeya\n",
      "Processing Record 41 of Set 7 | nikolskoye\n",
      "Processing Record 42 of Set 7 | makasar\n",
      "City not found - skipping.\n",
      "Processing Record 43 of Set 7 | verkhnyaya inta\n",
      "Processing Record 44 of Set 7 | knysna\n",
      "Processing Record 45 of Set 7 | gorgan\n",
      "Processing Record 46 of Set 7 | ignatovka\n",
      "Processing Record 47 of Set 7 | makakilo city\n",
      "Processing Record 48 of Set 7 | itoman\n",
      "Processing Record 49 of Set 7 | pangnirtung\n",
      "Processing Record 50 of Set 7 | zhongshan\n",
      "Processing Record 0 of Set 8 | opuwo\n",
      "Processing Record 1 of Set 8 | maceio\n",
      "Processing Record 2 of Set 8 | kokstad\n",
      "Processing Record 3 of Set 8 | kasempa\n",
      "Processing Record 4 of Set 8 | phan thiet\n",
      "Processing Record 5 of Set 8 | alenquer\n",
      "City not found - skipping.\n",
      "Processing Record 6 of Set 8 | touros\n",
      "Processing Record 7 of Set 8 | boshnyakovo\n",
      "Processing Record 8 of Set 8 | tubuala\n",
      "Processing Record 9 of Set 8 | kavieng\n",
      "Processing Record 10 of Set 8 | iqaluit\n",
      "Processing Record 11 of Set 8 | rohnert park\n",
      "Processing Record 12 of Set 8 | bilma\n",
      "Processing Record 13 of Set 8 | koygorodok\n",
      "Processing Record 14 of Set 8 | gayny\n",
      "Processing Record 15 of Set 8 | campbell river\n",
      "Processing Record 16 of Set 8 | rochegda\n",
      "Processing Record 17 of Set 8 | hofn\n",
      "Processing Record 18 of Set 8 | walvis bay\n",
      "Processing Record 19 of Set 8 | gilgit\n",
      "Processing Record 20 of Set 8 | fenoarivo\n",
      "Processing Record 21 of Set 8 | lasa\n",
      "Processing Record 22 of Set 8 | kavaratti\n",
      "City not found - skipping.\n"
     ]
    },
    {
     "name": "stdout",
     "output_type": "stream",
     "text": [
      "Processing Record 23 of Set 8 | kenai\n",
      "Processing Record 24 of Set 8 | westport\n",
      "Processing Record 25 of Set 8 | kahului\n",
      "City not found - skipping.\n",
      "Processing Record 26 of Set 8 | kuandian\n",
      "Processing Record 27 of Set 8 | sembe\n",
      "Processing Record 28 of Set 8 | caceres\n",
      "Processing Record 29 of Set 8 | skjervoy\n",
      "Processing Record 30 of Set 8 | hulan ergi\n",
      "Processing Record 31 of Set 8 | svetlogorsk\n",
      "Processing Record 32 of Set 8 | yar-sale\n",
      "Processing Record 33 of Set 8 | bereda\n",
      "Processing Record 34 of Set 8 | sur\n",
      "Processing Record 35 of Set 8 | ratnagiri\n",
      "Processing Record 36 of Set 8 | yerbogachen\n",
      "Processing Record 37 of Set 8 | mar del plata\n",
      "Processing Record 38 of Set 8 | becerril\n",
      "Processing Record 39 of Set 8 | clyde river\n",
      "Processing Record 40 of Set 8 | sarangani\n",
      "Processing Record 41 of Set 8 | rio grande\n",
      "Processing Record 42 of Set 8 | emba\n",
      "Processing Record 43 of Set 8 | vilyuysk\n",
      "Processing Record 44 of Set 8 | chapais\n",
      "Processing Record 45 of Set 8 | san quintin\n",
      "Processing Record 46 of Set 8 | bone\n",
      "Processing Record 47 of Set 8 | san policarpo\n",
      "Processing Record 48 of Set 8 | anshun\n",
      "Processing Record 49 of Set 8 | alice town\n",
      "Processing Record 50 of Set 8 | boissevain\n",
      "Processing Record 0 of Set 9 | mahebourg\n",
      "City not found - skipping.\n",
      "Processing Record 1 of Set 9 | ketchikan\n",
      "Processing Record 2 of Set 9 | san ramon de la nueva oran\n",
      "Processing Record 3 of Set 9 | kisangani\n",
      "Processing Record 4 of Set 9 | ilulissat\n",
      "Processing Record 5 of Set 9 | hamadan\n",
      "Processing Record 6 of Set 9 | meulaboh\n",
      "Processing Record 7 of Set 9 | rosarito\n",
      "Processing Record 8 of Set 9 | port-gentil\n",
      "Processing Record 9 of Set 9 | college\n",
      "City not found - skipping.\n",
      "Processing Record 10 of Set 9 | naryan-mar\n",
      "Processing Record 11 of Set 9 | cap-aux-meules\n",
      "City not found - skipping.\n",
      "Processing Record 12 of Set 9 | leiyang\n",
      "Processing Record 13 of Set 9 | bowen\n",
      "Processing Record 14 of Set 9 | sambava\n",
      "Processing Record 15 of Set 9 | kununurra\n",
      "Processing Record 16 of Set 9 | novaya zaimka\n",
      "Processing Record 17 of Set 9 | talnakh\n",
      "City not found - skipping.\n",
      "Processing Record 18 of Set 9 | fare\n",
      "Processing Record 19 of Set 9 | mattru\n",
      "Processing Record 20 of Set 9 | kez\n",
      "Processing Record 21 of Set 9 | soyo\n",
      "Processing Record 22 of Set 9 | arman\n",
      "Processing Record 23 of Set 9 | aitape\n",
      "Processing Record 24 of Set 9 | tabou\n",
      "Processing Record 25 of Set 9 | praia\n",
      "Processing Record 26 of Set 9 | pocone\n",
      "Processing Record 27 of Set 9 | bambous virieux\n",
      "Processing Record 28 of Set 9 | waggaman\n",
      "City not found - skipping.\n",
      "Processing Record 29 of Set 9 | ornskoldsvik\n",
      "Processing Record 30 of Set 9 | orange cove\n",
      "Processing Record 31 of Set 9 | kikwit\n",
      "Processing Record 32 of Set 9 | hearst\n",
      "Processing Record 33 of Set 9 | kyren\n",
      "Processing Record 34 of Set 9 | tessalit\n",
      "Processing Record 35 of Set 9 | krasnorechenskiy\n",
      "Processing Record 36 of Set 9 | adwa\n",
      "Processing Record 37 of Set 9 | abha\n",
      "Processing Record 38 of Set 9 | nome\n",
      "Processing Record 39 of Set 9 | aksarayskiy\n",
      "City not found - skipping.\n",
      "Processing Record 40 of Set 9 | bulgan\n",
      "City not found - skipping.\n",
      "Processing Record 41 of Set 9 | mareeba\n",
      "Processing Record 42 of Set 9 | ipiau\n",
      "Processing Record 43 of Set 9 | goderich\n",
      "Processing Record 44 of Set 9 | paamiut\n",
      "Processing Record 45 of Set 9 | rodrigues alves\n",
      "Processing Record 46 of Set 9 | mandalgovi\n",
      "Processing Record 47 of Set 9 | tahe\n",
      "Processing Record 48 of Set 9 | libertador general san martin\n",
      "Processing Record 49 of Set 9 | apsheronsk\n",
      "Processing Record 50 of Set 9 | kasongo-lunda\n",
      "Processing Record 0 of Set 10 | itaueira\n",
      "Processing Record 1 of Set 10 | kaohsiung\n",
      "Processing Record 2 of Set 10 | tukrah\n",
      "Processing Record 3 of Set 10 | kasongo\n",
      "Processing Record 4 of Set 10 | hobyo\n",
      "Processing Record 5 of Set 10 | kruisfontein\n",
      "Processing Record 6 of Set 10 | rovaniemi\n",
      "Processing Record 7 of Set 10 | pafos\n",
      "Processing Record 8 of Set 10 | saint-joseph\n",
      "Processing Record 9 of Set 10 | lanzhou\n",
      "City not found - skipping.\n",
      "Processing Record 10 of Set 10 | vao\n",
      "Processing Record 11 of Set 10 | high level\n",
      "Processing Record 12 of Set 10 | barugo\n",
      "Processing Record 13 of Set 10 | raga\n",
      "Processing Record 14 of Set 10 | kidal\n",
      "Processing Record 15 of Set 10 | los alamos\n",
      "Processing Record 16 of Set 10 | pacific grove\n",
      "Processing Record 17 of Set 10 | itaituba\n",
      "Processing Record 18 of Set 10 | bollnas\n",
      "Processing Record 19 of Set 10 | valparaiso\n",
      "Processing Record 20 of Set 10 | mlyniv\n",
      "Processing Record 21 of Set 10 | mitsamiouli\n",
      "Processing Record 22 of Set 10 | kushmurun\n",
      "Processing Record 23 of Set 10 | sultanpur\n",
      "Processing Record 24 of Set 10 | vanavara\n",
      "Processing Record 25 of Set 10 | aktash\n",
      "Processing Record 26 of Set 10 | beloha\n",
      "Processing Record 27 of Set 10 | minab\n",
      "Processing Record 28 of Set 10 | aginskoye\n",
      "Processing Record 29 of Set 10 | rapid valley\n",
      "Processing Record 30 of Set 10 | lagoa\n",
      "Processing Record 31 of Set 10 | bilibino\n",
      "Processing Record 32 of Set 10 | gannan\n",
      "Processing Record 33 of Set 10 | tocopilla\n",
      "Processing Record 34 of Set 10 | inirida\n",
      "Processing Record 35 of Set 10 | makat\n",
      "Processing Record 36 of Set 10 | gandu\n",
      "Processing Record 37 of Set 10 | parkersburg\n",
      "Processing Record 38 of Set 10 | veere\n",
      "Processing Record 39 of Set 10 | surt\n",
      "Processing Record 40 of Set 10 | chany\n",
      "City not found - skipping.\n",
      "City not found - skipping.\n",
      "Processing Record 41 of Set 10 | chama\n",
      "Processing Record 42 of Set 10 | lavrentiya\n",
      "Processing Record 43 of Set 10 | jiujiang\n",
      "Processing Record 44 of Set 10 | puerto madryn\n",
      "Processing Record 45 of Set 10 | coari\n",
      "Processing Record 46 of Set 10 | chegdomyn\n",
      "Processing Record 47 of Set 10 | tiznit\n",
      "Processing Record 48 of Set 10 | jackson\n",
      "City not found - skipping.\n",
      "Processing Record 49 of Set 10 | gamba\n",
      "Processing Record 50 of Set 10 | yulara\n",
      "Processing Record 0 of Set 11 | kamien pomorski\n",
      "Processing Record 1 of Set 11 | lengshuijiang\n",
      "City not found - skipping.\n",
      "Processing Record 2 of Set 11 | tucurui\n",
      "Processing Record 3 of Set 11 | anuradhapura\n",
      "City not found - skipping.\n",
      "Processing Record 4 of Set 11 | khandyga\n",
      "Processing Record 5 of Set 11 | osa\n",
      "Processing Record 6 of Set 11 | mahesana\n",
      "Processing Record 7 of Set 11 | shelburne\n",
      "Processing Record 8 of Set 11 | the valley\n",
      "Processing Record 9 of Set 11 | assomada\n",
      "Processing Record 10 of Set 11 | payo\n",
      "Processing Record 11 of Set 11 | uige\n",
      "City not found - skipping.\n",
      "City not found - skipping.\n",
      "Processing Record 12 of Set 11 | bubaque\n",
      "Processing Record 13 of Set 11 | kalachinsk\n",
      "Processing Record 14 of Set 11 | boden\n",
      "Processing Record 15 of Set 11 | batken\n",
      "Processing Record 16 of Set 11 | castricum\n",
      "Processing Record 17 of Set 11 | nambour\n",
      "Processing Record 18 of Set 11 | mpraeso\n",
      "Processing Record 19 of Set 11 | ponta do sol\n",
      "Processing Record 20 of Set 11 | yeppoon\n",
      "Processing Record 21 of Set 11 | san antonio\n",
      "Processing Record 22 of Set 11 | piro\n",
      "Processing Record 23 of Set 11 | lata\n",
      "Processing Record 24 of Set 11 | saint-francois\n",
      "Processing Record 25 of Set 11 | urshelskiy\n",
      "Processing Record 26 of Set 11 | prabumulih\n",
      "Processing Record 27 of Set 11 | waipawa\n",
      "Processing Record 28 of Set 11 | banisor\n",
      "Processing Record 29 of Set 11 | bucerias\n",
      "Processing Record 30 of Set 11 | sorland\n",
      "Processing Record 31 of Set 11 | grand forks\n",
      "Processing Record 32 of Set 11 | bathsheba\n",
      "Processing Record 33 of Set 11 | garowe\n",
      "Processing Record 34 of Set 11 | barras\n",
      "Processing Record 35 of Set 11 | beira\n",
      "Processing Record 36 of Set 11 | plettenberg bay\n",
      "Processing Record 37 of Set 11 | bima\n",
      "Processing Record 38 of Set 11 | warren\n",
      "Processing Record 39 of Set 11 | bucak\n",
      "City not found - skipping.\n",
      "City not found - skipping.\n",
      "Processing Record 40 of Set 11 | carutapera\n",
      "Processing Record 41 of Set 11 | camacha\n",
      "Processing Record 42 of Set 11 | komsomolskiy\n",
      "Processing Record 43 of Set 11 | cap malheureux\n",
      "Processing Record 44 of Set 11 | nehe\n",
      "Processing Record 45 of Set 11 | vila\n",
      "Processing Record 46 of Set 11 | cayenne\n",
      "Processing Record 47 of Set 11 | lianzhou\n",
      "Processing Record 48 of Set 11 | the pas\n",
      "Processing Record 49 of Set 11 | mugur-aksy\n",
      "Processing Record 50 of Set 11 | wanning\n",
      "Processing Record 0 of Set 12 | naron\n",
      "Processing Record 1 of Set 12 | herat\n",
      "Processing Record 2 of Set 12 | veraval\n",
      "Processing Record 3 of Set 12 | kisiwani\n",
      "Processing Record 4 of Set 12 | nago\n",
      "Processing Record 5 of Set 12 | shahrud\n"
     ]
    },
    {
     "name": "stdout",
     "output_type": "stream",
     "text": [
      "Processing Record 6 of Set 12 | sinnamary\n",
      "City not found - skipping.\n",
      "Processing Record 7 of Set 12 | bratsk\n",
      "Processing Record 8 of Set 12 | auki\n",
      "Processing Record 9 of Set 12 | nishihara\n",
      "Processing Record 10 of Set 12 | gazimurskiy zavod\n",
      "Processing Record 11 of Set 12 | tual\n",
      "City not found - skipping.\n",
      "Processing Record 12 of Set 12 | ardakan\n",
      "Processing Record 13 of Set 12 | karachi\n",
      "Processing Record 14 of Set 12 | maldonado\n",
      "Processing Record 15 of Set 12 | galle\n",
      "Processing Record 16 of Set 12 | batagay-alyta\n",
      "Processing Record 17 of Set 12 | lebedinyy\n",
      "Processing Record 18 of Set 12 | erie\n",
      "Processing Record 19 of Set 12 | kawalu\n",
      "Processing Record 20 of Set 12 | la asuncion\n",
      "Processing Record 21 of Set 12 | laguna de perlas\n",
      "Processing Record 22 of Set 12 | polunochnoye\n",
      "Processing Record 23 of Set 12 | chern\n",
      "Processing Record 24 of Set 12 | gonbad-e qabus\n"
     ]
    }
   ],
   "source": [
    "#save config information\n",
    "url = \"http://api.openweathermap.org/data/2.5/weather?\"\n",
    "units = \"imperial\"\n",
    "\n",
    "#build query url\n",
    "query_url = f\"{url}appid={weather_api_key}&units={units}&q=\"\n",
    "\n",
    "#empty lists to store retrieved data\n",
    "cityNameList = []\n",
    "latList = []\n",
    "lngList = []\n",
    "maxTempList= []\n",
    "humidityList = []\n",
    "cloudinessList = []\n",
    "windSpeedList = []\n",
    "countryList = []\n",
    "dateList = []\n",
    "\n",
    "#counter variables\n",
    "record = 0 \n",
    "log_set = 1\n",
    "\n",
    "print(\"Beginning Data Retrieval\")\n",
    "print(\"------------------------\")\n",
    "\n",
    "#loop through cities\n",
    "for city in cities:\n",
    "        \n",
    "    #get the weather data    \n",
    "    weather_json = requests.get(query_url + city).json()\n",
    "    \n",
    "    try:\n",
    "        # Get weather data\n",
    "        \n",
    "        #store information and add to lists\n",
    "        cityName = weather_json[\"name\"]\n",
    "        cityNameList.append(cityName)\n",
    "        \n",
    "        lat = weather_json[\"coord\"][\"lat\"]\n",
    "        latList.append(lat)\n",
    "        \n",
    "        lng = weather_json[\"coord\"][\"lon\"]\n",
    "        lngList.append(lng)\n",
    "        \n",
    "        maxTemp = weather_json[\"main\"][\"temp_max\"]\n",
    "        maxTempList.append(maxTemp)\n",
    "        \n",
    "        humidity = weather_json[\"main\"][\"humidity\"]\n",
    "        humidityList.append(humidity)\n",
    "        \n",
    "        cloudiness = weather_json[\"clouds\"][\"all\"]\n",
    "        cloudinessList.append(cloudiness)\n",
    "        \n",
    "        windSpeed = weather_json[\"wind\"][\"speed\"]\n",
    "        windSpeedList.append(windSpeed)\n",
    "        \n",
    "        country = weather_json[\"sys\"][\"country\"]\n",
    "        countryList.append(country)\n",
    "        \n",
    "        date = weather_json[\"dt\"]\n",
    "        dateList.append(date)\n",
    "        \n",
    "        #prints log of each city \n",
    "        print(f\"Processing Record {record} of Set {log_set} | {city}\")\n",
    "        \n",
    "        if record <= 49:\n",
    "            record +=1\n",
    "        \n",
    "        else:\n",
    "            record = 0\n",
    "            log_set+=1\n",
    "      \n",
    "    except:\n",
    "        print(\"City not found - skipping.\")"
   ]
  },
  {
   "cell_type": "markdown",
   "metadata": {},
   "source": [
    "### Convert Raw Data to DataFrame\n",
    "* Export the city data into a .csv.\n",
    "* Display the DataFrame"
   ]
  },
  {
   "cell_type": "code",
   "execution_count": 4,
   "metadata": {},
   "outputs": [],
   "source": [
    "#create dataframe\n",
    "city_df = pd.DataFrame({\"City\": cityNameList, \"Lat\": latList, \"Lng\": lngList, \"Max Temp\": maxTempList,\n",
    "                       \"Humidity\": humidityList, \"Cloudiness\": cloudinessList, \"Wind Speed\": windSpeedList,\n",
    "                       \"Country\": countryList, \"Date\": dateList})\n",
    "#display dataframe\n",
    "city_df.head()\n",
    "\n",
    "#export to csvfile \n",
    "city_df.to_csv(output_data_file, index=False, header=True)"
   ]
  },
  {
   "cell_type": "markdown",
   "metadata": {},
   "source": [
    "## Inspect the data and remove the cities where the humidity > 100%.\n",
    "----\n",
    "Skip this step if there are no cities that have humidity > 100%. "
   ]
  },
  {
   "cell_type": "code",
   "execution_count": 5,
   "metadata": {},
   "outputs": [
    {
     "data": {
      "text/html": [
       "<div>\n",
       "<style scoped>\n",
       "    .dataframe tbody tr th:only-of-type {\n",
       "        vertical-align: middle;\n",
       "    }\n",
       "\n",
       "    .dataframe tbody tr th {\n",
       "        vertical-align: top;\n",
       "    }\n",
       "\n",
       "    .dataframe thead th {\n",
       "        text-align: right;\n",
       "    }\n",
       "</style>\n",
       "<table border=\"1\" class=\"dataframe\">\n",
       "  <thead>\n",
       "    <tr style=\"text-align: right;\">\n",
       "      <th></th>\n",
       "      <th>City</th>\n",
       "      <th>Lat</th>\n",
       "      <th>Lng</th>\n",
       "      <th>Max Temp</th>\n",
       "      <th>Humidity</th>\n",
       "      <th>Cloudiness</th>\n",
       "      <th>Wind Speed</th>\n",
       "      <th>Country</th>\n",
       "      <th>Date</th>\n",
       "    </tr>\n",
       "  </thead>\n",
       "  <tbody>\n",
       "  </tbody>\n",
       "</table>\n",
       "</div>"
      ],
      "text/plain": [
       "Empty DataFrame\n",
       "Columns: [City, Lat, Lng, Max Temp, Humidity, Cloudiness, Wind Speed, Country, Date]\n",
       "Index: []"
      ]
     },
     "execution_count": 5,
     "metadata": {},
     "output_type": "execute_result"
    }
   ],
   "source": [
    "#identify cities with humidity > 100\n",
    "high_humidity = city_df.loc[city_df[\"Humidity\"] > int(100)]\n",
    "high_humidity"
   ]
  },
  {
   "cell_type": "code",
   "execution_count": 6,
   "metadata": {},
   "outputs": [],
   "source": [
    "#  Get the indices of cities that have humidity over 100%.\n"
   ]
  },
  {
   "cell_type": "code",
   "execution_count": 7,
   "metadata": {},
   "outputs": [],
   "source": [
    "# Make a new DataFrame equal to the city data to drop all humidity outliers by index.\n",
    "# Passing \"inplace=False\" will make a copy of the city_data DataFrame, which we call \"clean_city_data\".\n"
   ]
  },
  {
   "cell_type": "markdown",
   "metadata": {},
   "source": [
    "## Plotting the Data\n",
    "* Use proper labeling of the plots using plot titles (including date of analysis) and axes labels.\n",
    "* Save the plotted figures as .pngs."
   ]
  },
  {
   "cell_type": "markdown",
   "metadata": {},
   "source": [
    "## Latitude vs. Temperature Plot"
   ]
  },
  {
   "cell_type": "code",
   "execution_count": 8,
   "metadata": {
    "scrolled": true
   },
   "outputs": [
    {
     "data": {
      "image/png": "[encoded data removed]",
      "text/plain": [
       "<Figure size 432x288 with 1 Axes>"
      ]
     },
     "metadata": {
      "needs_background": "light"
     },
     "output_type": "display_data"
    },
    {
     "data": {
      "text/plain": [
       "<Figure size 432x288 with 0 Axes>"
      ]
     },
     "metadata": {},
     "output_type": "display_data"
    }
   ],
   "source": [
    "#scatter plot of the data\n",
    "plt.scatter(city_df[\"Lat\"], city_df[\"Max Temp\"])\n",
    "\n",
    "#labels\n",
    "plt.title(\"Latitude vs. Max Temperature\")\n",
    "plt.xlabel(\"Latitude\")\n",
    "plt.ylabel(\"Max Temperature (F)\")\n",
    "\n",
    "#axes limits\n",
    "plt.ylim(0, 100)\n",
    "plt.xlim(-60, 80)\n",
    "\n",
    "#display the plot\n",
    "plt.show()\n",
    "\n",
    "#save image\n",
    "plt.savefig(\"Images/lat_temp.png\")"
   ]
  },
  {
   "cell_type": "markdown",
   "metadata": {},
   "source": [
    "## Latitude vs. Humidity Plot"
   ]
  },
  {
   "cell_type": "code",
   "execution_count": 9,
   "metadata": {},
   "outputs": [
    {
     "data": {
      "image/png": "[encoded data removed]",
      "text/plain": [
       "<Figure size 432x288 with 1 Axes>"
      ]
     },
     "metadata": {
      "needs_background": "light"
     },
     "output_type": "display_data"
    },
    {
     "data": {
      "text/plain": [
       "<Figure size 432x288 with 0 Axes>"
      ]
     },
     "metadata": {},
     "output_type": "display_data"
    }
   ],
   "source": [
    "#scatter plot of the data\n",
    "plt.scatter(city_df[\"Lat\"], city_df[\"Humidity\"])\n",
    "\n",
    "#labels\n",
    "plt.title(\"Latitude vs. Humidity\")\n",
    "plt.xlabel(\"Latitude\")\n",
    "plt.ylabel(\"Humidity (%)\")\n",
    "\n",
    "#axes limits\n",
    "plt.ylim(0, 100)\n",
    "plt.xlim(-60, 80)\n",
    "\n",
    "#display the plot\n",
    "plt.show()\n",
    "\n",
    "#save image\n",
    "plt.savefig(\"Images/lat_humidity.png\")"
   ]
  },
  {
   "cell_type": "markdown",
   "metadata": {},
   "source": [
    "## Latitude vs. Cloudiness Plot"
   ]
  },
  {
   "cell_type": "code",
   "execution_count": 10,
   "metadata": {},
   "outputs": [
    {
     "data": {
      "image/png": "[encoded data removed]",
      "text/plain": [
       "<Figure size 432x288 with 1 Axes>"
      ]
     },
     "metadata": {
      "needs_background": "light"
     },
     "output_type": "display_data"
    },
    {
     "data": {
      "text/plain": [
       "<Figure size 432x288 with 0 Axes>"
      ]
     },
     "metadata": {},
     "output_type": "display_data"
    }
   ],
   "source": [
    "#scatter plot of the data\n",
    "plt.scatter(city_df[\"Lat\"], city_df[\"Cloudiness\"])\n",
    "\n",
    "#labels\n",
    "plt.title(\"Latitude vs. Cloudiness\")\n",
    "plt.xlabel(\"Latitude\")\n",
    "plt.ylabel(\"Cloudiness (%)\")\n",
    "\n",
    "#axes limits\n",
    "plt.ylim(-5, 100)\n",
    "plt.xlim(-60, 80)\n",
    "\n",
    "#display the plot\n",
    "plt.show()\n",
    "\n",
    "#save image\n",
    "plt.savefig(\"Images/lat_cloudiness.png\")"
   ]
  },
  {
   "cell_type": "markdown",
   "metadata": {},
   "source": [
    "## Latitude vs. Wind Speed Plot"
   ]
  },
  {
   "cell_type": "code",
   "execution_count": 11,
   "metadata": {
    "scrolled": true
   },
   "outputs": [
    {
     "data": {
      "image/png": "[encoded data removed]",
      "text/plain": [
       "<Figure size 432x288 with 1 Axes>"
      ]
     },
     "metadata": {
      "needs_background": "light"
     },
     "output_type": "display_data"
    },
    {
     "data": {
      "text/plain": [
       "<Figure size 432x288 with 0 Axes>"
      ]
     },
     "metadata": {},
     "output_type": "display_data"
    }
   ],
   "source": [
    "#scatter plot of the data\n",
    "plt.scatter(city_df[\"Lat\"], city_df[\"Wind Speed\"])\n",
    "\n",
    "#labels\n",
    "plt.title(\"Latitude vs. Wind Speed\")\n",
    "plt.xlabel(\"Latitude\")\n",
    "plt.ylabel(\"Wind Speed (mph)\")\n",
    "\n",
    "#axes limits\n",
    "plt.ylim(0, 40)\n",
    "plt.xlim(-60, 80)\n",
    "\n",
    "#display the plot\n",
    "plt.show()\n",
    "\n",
    "#save image\n",
    "plt.savefig(\"Images/lat_windspeed.png\")"
   ]
  },
  {
   "cell_type": "markdown",
   "metadata": {},
   "source": [
    "## Linear Regression"
   ]
  },
  {
   "cell_type": "code",
   "execution_count": 12,
   "metadata": {},
   "outputs": [],
   "source": [
    "#create northern and southern hemisphere variables\n",
    "northern_hemisphere = city_df.loc[city_df[\"Lat\"] > 0 ]\n",
    "southern_hemisphere = city_df.loc[city_df[\"Lat\"] < 0 ]"
   ]
  },
  {
   "cell_type": "markdown",
   "metadata": {},
   "source": [
    "####  Northern Hemisphere - Max Temp vs. Latitude Linear Regression"
   ]
  },
  {
   "cell_type": "code",
   "execution_count": 13,
   "metadata": {},
   "outputs": [
    {
     "name": "stdout",
     "output_type": "stream",
     "text": [
      "The correlation between northen hemisphere latitude and max temperature is -0.89.\n"
     ]
    },
    {
     "data": {
      "image/png": "[encoded data removed]",
      "text/plain": [
       "<Figure size 432x288 with 1 Axes>"
      ]
     },
     "metadata": {
      "needs_background": "light"
     },
     "output_type": "display_data"
    },
    {
     "data": {
      "text/plain": [
       "<Figure size 432x288 with 0 Axes>"
      ]
     },
     "metadata": {},
     "output_type": "display_data"
    }
   ],
   "source": [
    "#determine St. Pearson Correlation Coefficient\n",
    "correlation = round(st.pearsonr(northern_hemisphere[\"Lat\"], northern_hemisphere[\"Max Temp\"])[0],2)\n",
    "\n",
    "#print St. Pearson Correlation Coefficient\n",
    "print(f\"The correlation between northen hemisphere latitude and max temperature is {correlation:.2f}.\")\n",
    "\n",
    "# establish linear regression values\n",
    "model = st.linregress(northern_hemisphere[\"Lat\"], northern_hemisphere[\"Max Temp\"])\n",
    "\n",
    "# linear regression line \n",
    "yvalues = (northern_hemisphere[\"Lat\"] * model[0]) + model[1]\n",
    "line_eq = \"y = \" + str(round(model[0],2)) + \"x + \" + str(round(model[1],2))\n",
    "\n",
    "# scatter plot of the data\n",
    "plt.scatter(northern_hemisphere[\"Lat\"], northern_hemisphere[\"Max Temp\"])\n",
    "plt.plot(northern_hemisphere[\"Lat\"], yvalues, color = \"red\")\n",
    "\n",
    "#annotation and labels\n",
    "plt.annotate(line_eq,(10,0),fontsize=12,color=\"red\")\n",
    "plt.title(\"Northern Hemisphere Latitude vs. Max Temp\")\n",
    "plt.xlabel(\"Northern Hemisphere Latitude\")\n",
    "plt.ylabel(\"Max Temp (F)\")\n",
    "\n",
    "#axes limits\n",
    "plt.ylim(-20, 120)\n",
    "plt.xlim(0, 80)\n",
    "\n",
    "#display plot\n",
    "plt.show()\n",
    "\n",
    "#save image\n",
    "plt.savefig(\"Images/nh_lat_temp_regression.png\")"
   ]
  },
  {
   "cell_type": "markdown",
   "metadata": {},
   "source": [
    "####  Southern Hemisphere - Max Temp vs. Latitude Linear Regression"
   ]
  },
  {
   "cell_type": "code",
   "execution_count": 14,
   "metadata": {},
   "outputs": [
    {
     "name": "stdout",
     "output_type": "stream",
     "text": [
      "The correlation southern hemisphere latitude and max temperature is 0.63.\n"
     ]
    },
    {
     "data": {
      "image/png": "[encoded data removed]",
      "text/plain": [
       "<Figure size 432x288 with 1 Axes>"
      ]
     },
     "metadata": {
      "needs_background": "light"
     },
     "output_type": "display_data"
    },
    {
     "data": {
      "text/plain": [
       "<Figure size 432x288 with 0 Axes>"
      ]
     },
     "metadata": {},
     "output_type": "display_data"
    }
   ],
   "source": [
    "#determine St. Pearson Correlation Coefficient\n",
    "correlation = round(st.pearsonr(southern_hemisphere[\"Lat\"], southern_hemisphere[\"Max Temp\"])[0],2)\n",
    "\n",
    "#print St. Pearson Correlation Coefficient\n",
    "print(f\"The correlation southern hemisphere latitude and max temperature is {correlation:.2f}.\")\n",
    "\n",
    "# establish linear regression values\n",
    "model = st.linregress(southern_hemisphere[\"Lat\"], southern_hemisphere[\"Max Temp\"])\n",
    "\n",
    "# linear regression line \n",
    "yvalues = (southern_hemisphere[\"Lat\"] * model[0]) + model[1]\n",
    "line_eq = \"y = \" + str(round(model[0],2)) + \"x + \" + str(round(model[1],2))\n",
    "\n",
    "# scatter plot of the data\n",
    "plt.scatter(southern_hemisphere[\"Lat\"], southern_hemisphere[\"Max Temp\"])\n",
    "plt.plot(southern_hemisphere[\"Lat\"], yvalues, color = \"red\")\n",
    "\n",
    "#annotation and labels\n",
    "plt.annotate(line_eq,(-50, 20),fontsize=12,color=\"red\")\n",
    "plt.title(\"Southern Hemisphere Latitude vs. Max Temp\")\n",
    "plt.xlabel(\"Southern Hemisphere Latitude\")\n",
    "plt.ylabel(\"Max Temp (F)\")\n",
    "\n",
    "#axes limits\n",
    "plt.ylim(0, 120)\n",
    "plt.xlim(-60, 0)\n",
    "\n",
    "#display plot\n",
    "plt.show()\n",
    "\n",
    "#save image\n",
    "plt.savefig(\"Images/sh_lat_temp_regression.png\")"
   ]
  },
  {
   "cell_type": "markdown",
   "metadata": {},
   "source": [
    "####  Northern Hemisphere - Humidity (%) vs. Latitude Linear Regression"
   ]
  },
  {
   "cell_type": "code",
   "execution_count": 15,
   "metadata": {},
   "outputs": [
    {
     "name": "stdout",
     "output_type": "stream",
     "text": [
      "The correlation between northern hemisphere latitude and humidity is 0.15.\n"
     ]
    },
    {
     "data": {
      "image/png": "[encoded data removed]",
      "text/plain": [
       "<Figure size 432x288 with 1 Axes>"
      ]
     },
     "metadata": {
      "needs_background": "light"
     },
     "output_type": "display_data"
    },
    {
     "data": {
      "text/plain": [
       "<Figure size 432x288 with 0 Axes>"
      ]
     },
     "metadata": {},
     "output_type": "display_data"
    }
   ],
   "source": [
    "#determine St. Pearson Correlation Coefficient\n",
    "correlation = round(st.pearsonr(northern_hemisphere[\"Lat\"], northern_hemisphere[\"Humidity\"])[0],2)\n",
    "\n",
    "#print St. Pearson Correlation Coefficient\n",
    "print(f\"The correlation between northern hemisphere latitude and humidity is {correlation:.2f}.\")\n",
    "\n",
    "# establish linear regression values\n",
    "model = st.linregress(northern_hemisphere[\"Lat\"], northern_hemisphere[\"Humidity\"])\n",
    "\n",
    "# linear regression line \n",
    "yvalues = (northern_hemisphere[\"Lat\"] * model[0]) + model[1]\n",
    "line_eq = \"y = \" + str(round(model[0],2)) + \"x + \" + str(round(model[1],2))\n",
    "\n",
    "# scatter plot of the data\n",
    "plt.scatter(northern_hemisphere[\"Lat\"], northern_hemisphere[\"Humidity\"])\n",
    "plt.plot(northern_hemisphere[\"Lat\"], yvalues, color = \"red\")\n",
    "\n",
    "#annotation and labels\n",
    "plt.annotate(line_eq,(50, 20),fontsize=12,color=\"red\")\n",
    "plt.title(\"Northern Hemisphere Latitude vs. Humidity\")\n",
    "plt.xlabel(\"Northern Hemisphere Latitude\")\n",
    "plt.ylabel(\"Humidity (%)\")\n",
    "\n",
    "#axes limits\n",
    "plt.ylim(0, 100)\n",
    "plt.xlim(0, 80)\n",
    "\n",
    "#display the plot \n",
    "plt.show()\n",
    "\n",
    "#save image\n",
    "plt.savefig(\"Images/nh_lat_humidity_regression.png\")"
   ]
  },
  {
   "cell_type": "markdown",
   "metadata": {},
   "source": [
    "####  Southern Hemisphere - Humidity (%) vs. Latitude Linear Regression"
   ]
  },
  {
   "cell_type": "code",
   "execution_count": 16,
   "metadata": {},
   "outputs": [
    {
     "name": "stdout",
     "output_type": "stream",
     "text": [
      "The correlation between southern hemisphere latitude and humidity is 0.23.\n"
     ]
    },
    {
     "data": {
      "image/png": "[encoded data removed]",
      "text/plain": [
       "<Figure size 432x288 with 1 Axes>"
      ]
     },
     "metadata": {
      "needs_background": "light"
     },
     "output_type": "display_data"
    },
    {
     "data": {
      "text/plain": [
       "<Figure size 432x288 with 0 Axes>"
      ]
     },
     "metadata": {},
     "output_type": "display_data"
    }
   ],
   "source": [
    "#determine St. Pearson Correlation Coefficient\n",
    "correlation = round(st.pearsonr(southern_hemisphere[\"Lat\"], southern_hemisphere[\"Humidity\"])[0],2)\n",
    "\n",
    "#print St. Pearson Correlation Coefficient\n",
    "print(f\"The correlation between southern hemisphere latitude and humidity is {correlation:.2f}.\")\n",
    "\n",
    "# establish linear regression values\n",
    "model = st.linregress(southern_hemisphere[\"Lat\"], southern_hemisphere[\"Humidity\"])\n",
    "\n",
    "# linear regression line \n",
    "yvalues = (southern_hemisphere[\"Lat\"] * model[0]) + model[1]\n",
    "line_eq = \"y = \" + str(round(model[0],2)) + \"x + \" + str(round(model[1],2))\n",
    "\n",
    "# scatter plot of the data\n",
    "plt.scatter(southern_hemisphere[\"Lat\"], southern_hemisphere[\"Humidity\"])\n",
    "plt.plot(southern_hemisphere[\"Lat\"], yvalues, color = \"red\")\n",
    "\n",
    "#annotation and labels\n",
    "plt.annotate(line_eq,(-55, 20),fontsize=12,color=\"red\")\n",
    "plt.title(\"Southern Hemisphere Latitude vs. Humidity\")\n",
    "plt.xlabel(\"Southern Hemisphere Latitude\")\n",
    "plt.ylabel(\"Humidity (%)\")\n",
    "\n",
    "#axes limits\n",
    "plt.ylim(0, 100)\n",
    "plt.xlim(-60, 0)\n",
    "\n",
    "#display the plot\n",
    "plt.show()\n",
    "\n",
    "#save image\n",
    "plt.savefig(\"Images/sh_lat_humidity_regression.png\")"
   ]
  },
  {
   "cell_type": "markdown",
   "metadata": {},
   "source": [
    "####  Northern Hemisphere - Cloudiness (%) vs. Latitude Linear Regression"
   ]
  },
  {
   "cell_type": "code",
   "execution_count": 17,
   "metadata": {},
   "outputs": [
    {
     "name": "stdout",
     "output_type": "stream",
     "text": [
      "The correlation between northern hemisphere latitude and cloudiness is 0.10.\n"
     ]
    },
    {
     "data": {
      "image/png": "[encoded data removed]",
      "text/plain": [
       "<Figure size 432x288 with 1 Axes>"
      ]
     },
     "metadata": {
      "needs_background": "light"
     },
     "output_type": "display_data"
    },
    {
     "data": {
      "text/plain": [
       "<Figure size 432x288 with 0 Axes>"
      ]
     },
     "metadata": {},
     "output_type": "display_data"
    }
   ],
   "source": [
    "#determine St. Pearson Correlation Coefficient\n",
    "correlation = round(st.pearsonr(northern_hemisphere[\"Lat\"], northern_hemisphere[\"Cloudiness\"])[0],2)\n",
    "\n",
    "#print St. Pearson Correlation Coefficient\n",
    "print(f\"The correlation between northern hemisphere latitude and cloudiness is {correlation:.2f}.\")\n",
    "\n",
    "# establish linear regression values\n",
    "model = st.linregress(northern_hemisphere[\"Lat\"], northern_hemisphere[\"Cloudiness\"])\n",
    "\n",
    "# linear regression line \n",
    "yvalues = (northern_hemisphere[\"Lat\"] * model[0]) + model[1]\n",
    "line_eq = \"y = \" + str(round(model[0],2)) + \"x + \" + str(round(model[1],2))\n",
    "\n",
    "# scatter plot of the data\n",
    "plt.scatter(northern_hemisphere[\"Lat\"], northern_hemisphere[\"Cloudiness\"])\n",
    "plt.plot(northern_hemisphere[\"Lat\"], yvalues, color = \"red\")\n",
    "\n",
    "#annotiation and labels\n",
    "plt.annotate(line_eq,(53, 10),fontsize=12,color=\"red\")\n",
    "plt.title(\"Northern Hemisphere Latitude vs. Cloudiness\")\n",
    "plt.xlabel (\"Northern Hemisphere Latitude\")\n",
    "plt.ylabel (\"Cloudiness (%)\")\n",
    "\n",
    "#axes limits\n",
    "plt.ylim(0, 100)\n",
    "plt.xlim(0, 80)\n",
    "\n",
    "#display the plot\n",
    "plt.show()\n",
    "\n",
    "#save image\n",
    "plt.savefig(\"Images/nh_lat_cloudiness_regression.png\")"
   ]
  },
  {
   "cell_type": "markdown",
   "metadata": {},
   "source": [
    "####  Southern Hemisphere - Cloudiness (%) vs. Latitude Linear Regression"
   ]
  },
  {
   "cell_type": "code",
   "execution_count": 18,
   "metadata": {},
   "outputs": [
    {
     "name": "stdout",
     "output_type": "stream",
     "text": [
      "The correlation between southern hemisphere latitude and cloudiness is 0.13.\n"
     ]
    },
    {
     "data": {
      "image/png": "[encoded data removed]",
      "text/plain": [
       "<Figure size 432x288 with 1 Axes>"
      ]
     },
     "metadata": {
      "needs_background": "light"
     },
     "output_type": "display_data"
    },
    {
     "data": {
      "text/plain": [
       "<Figure size 432x288 with 0 Axes>"
      ]
     },
     "metadata": {},
     "output_type": "display_data"
    }
   ],
   "source": [
    "#determine St. Pearson Correlation Coefficient\n",
    "correlation = round(st.pearsonr(southern_hemisphere[\"Lat\"], southern_hemisphere[\"Cloudiness\"])[0],2)\n",
    "\n",
    "#print St. Pearson Correlation Coefficient\n",
    "print(f\"The correlation between southern hemisphere latitude and cloudiness is {correlation:.2f}.\")\n",
    "\n",
    "# establish linear regression values\n",
    "model = st.linregress(southern_hemisphere[\"Lat\"], southern_hemisphere[\"Cloudiness\"])\n",
    "\n",
    "# linear regression line \n",
    "yvalues = (southern_hemisphere[\"Lat\"] * model[0]) + model[1]\n",
    "line_eq = \"y = \" + str(round(model[0],2)) + \"x + \" + str(round(model[1],2))\n",
    "\n",
    "# scatter plot of the data\n",
    "plt.scatter(southern_hemisphere[\"Lat\"], southern_hemisphere[\"Cloudiness\"])\n",
    "plt.plot(southern_hemisphere[\"Lat\"], yvalues, color = \"red\")\n",
    "\n",
    "#annotation and labels\n",
    "plt.annotate(line_eq,(-55, 47),fontsize=12,color=\"red\")\n",
    "plt.title(\"Souther Hemisphere Latitude vs. Cloudiness\")\n",
    "plt.xlabel (\"Southern Hemisphere Latitude\")\n",
    "plt.ylabel (\"Cloudines (%)\")\n",
    "\n",
    "#axes limits\n",
    "plt.ylim(0, 100)\n",
    "plt.xlim(-60, 0)\n",
    "\n",
    "#display the plot\n",
    "plt.show()\n",
    "\n",
    "#save image\n",
    "plt.savefig(\"Images/sh_lat_cloudiness_regression.png\")"
   ]
  },
  {
   "cell_type": "markdown",
   "metadata": {},
   "source": [
    "####  Northern Hemisphere - Wind Speed (mph) vs. Latitude Linear Regression"
   ]
  },
  {
   "cell_type": "code",
   "execution_count": 19,
   "metadata": {},
   "outputs": [
    {
     "name": "stdout",
     "output_type": "stream",
     "text": [
      "The correlation between northern hemisphere latitude and wind speed is 0.18.\n"
     ]
    },
    {
     "data": {
      "image/png": "[encoded data removed]",
      "text/plain": [
       "<Figure size 432x288 with 1 Axes>"
      ]
     },
     "metadata": {
      "needs_background": "light"
     },
     "output_type": "display_data"
    },
    {
     "data": {
      "text/plain": [
       "<Figure size 432x288 with 0 Axes>"
      ]
     },
     "metadata": {},
     "output_type": "display_data"
    }
   ],
   "source": [
    "#determine St. Pearson Correlation Coefficient\n",
    "correlation = round(st.pearsonr(northern_hemisphere[\"Lat\"], northern_hemisphere[\"Wind Speed\"])[0],2)\n",
    "\n",
    "#print St. Pearson Correlation Coefficient\n",
    "print(f\"The correlation between northern hemisphere latitude and wind speed is {correlation:.2f}.\")\n",
    "\n",
    "# establish linear regression values\n",
    "model = st.linregress(northern_hemisphere[\"Lat\"], northern_hemisphere[\"Wind Speed\"])\n",
    "\n",
    "# linear regression line \n",
    "yvalues = (northern_hemisphere[\"Lat\"] * model[0]) + model[1]\n",
    "line_eq = \"y = \" + str(round(model[0],2)) + \"x + \" + str(round(model[1],2))\n",
    "\n",
    "# scatter plot of the data\n",
    "plt.scatter(northern_hemisphere[\"Lat\"], northern_hemisphere[\"Wind Speed\"])\n",
    "plt.plot(northern_hemisphere[\"Lat\"], yvalues, color = \"red\")\n",
    "\n",
    "#annotation and labels\n",
    "plt.annotate(line_eq,(10, 30),fontsize=12,color=\"red\")\n",
    "plt.title(\"Northern Hemisphere Latitude vs. Wind Speed\")\n",
    "plt.xlabel (\"Northern Hemisphere Latitude\")\n",
    "plt.ylabel (\"Wind Speed (mph)\")\n",
    "\n",
    "#axes limits\n",
    "plt.ylim(0, 40)\n",
    "plt.xlim(0, 80)\n",
    "\n",
    "#display the plot\n",
    "plt.show()\n",
    "\n",
    "#save image\n",
    "plt.savefig(\"Images/nh_lat_windspeed_regression.png\")"
   ]
  },
  {
   "cell_type": "markdown",
   "metadata": {},
   "source": [
    "####  Southern Hemisphere - Wind Speed (mph) vs. Latitude Linear Regression"
   ]
  },
  {
   "cell_type": "code",
   "execution_count": 20,
   "metadata": {},
   "outputs": [
    {
     "name": "stdout",
     "output_type": "stream",
     "text": [
      "The correlation between southern hemisphere latitude and wind speed is -0.27.\n"
     ]
    },
    {
     "data": {
      "image/png": "[encoded data removed]",
      "text/plain": [
       "<Figure size 432x288 with 1 Axes>"
      ]
     },
     "metadata": {
      "needs_background": "light"
     },
     "output_type": "display_data"
    },
    {
     "data": {
      "text/plain": [
       "<Figure size 432x288 with 0 Axes>"
      ]
     },
     "metadata": {},
     "output_type": "display_data"
    }
   ],
   "source": [
    "#determine St. Pearson Correlation Coefficient\n",
    "correlation = round(st.pearsonr(southern_hemisphere[\"Lat\"], southern_hemisphere[\"Wind Speed\"])[0],2)\n",
    "\n",
    "#print St. Pearson Correlation Coefficient\n",
    "print(f\"The correlation between southern hemisphere latitude and wind speed is {correlation:.2f}.\")\n",
    "\n",
    "# establish linear regression values\n",
    "model = st.linregress(southern_hemisphere[\"Lat\"], southern_hemisphere[\"Wind Speed\"])\n",
    "\n",
    "# linear regression line \n",
    "yvalues = (southern_hemisphere[\"Lat\"] * model[0]) + model[1]\n",
    "line_eq = \"y = \" + str(round(model[0],2)) + \"x + \" + str(round(model[1],2))\n",
    "\n",
    "# scatter plot of the data\n",
    "plt.scatter(southern_hemisphere[\"Lat\"], southern_hemisphere[\"Wind Speed\"])\n",
    "plt.plot(southern_hemisphere[\"Lat\"], yvalues, color = \"red\")\n",
    "\n",
    "#annotation and labels\n",
    "plt.annotate(line_eq,(-55, 25),fontsize=12,color=\"red\")\n",
    "plt.title(\"Southern Hemisphere Latitude vs. Wind Speed\")\n",
    "plt.xlabel (\"Southern Hemisphere Latitude\")\n",
    "plt.ylabel (\"Wind Speed (mph)\")\n",
    "\n",
    "#axes limits\n",
    "plt.ylim(0, 40)\n",
    "plt.xlim(-60, 0)\n",
    "\n",
    "#display the plot\n",
    "plt.show()\n",
    "\n",
    "#save image\n",
    "plt.savefig(\"Images/sh_lat_windspeed_regression.png\")"
   ]
  },
  {
   "cell_type": "code",
   "execution_count": null,
   "metadata": {},
   "outputs": [],
   "source": []
  }
 ],
 "metadata": {
  "anaconda-cloud": {},
  "kernel_info": {
   "name": "python3"
  },
  "kernelspec": {
   "display_name": "Python 3",
   "language": "python",
   "name": "python3"
  },
  "language_info": {
   "codemirror_mode": {
    "name": "ipython",
    "version": 3
   },
   "file_extension": ".py",
   "mimetype": "text/x-python",
   "name": "python",
   "nbconvert_exporter": "python",
   "pygments_lexer": "ipython3",
   "version": "3.8.8"
  },
  "latex_envs": {
   "LaTeX_envs_menu_present": true,
   "autoclose": false,
   "autocomplete": true,
   "bibliofile": "biblio.bib",
   "cite_by": "apalike",
   "current_citInitial": 1,
   "eqLabelWithNumbers": true,
   "eqNumInitial": 1,
   "hotkeys": {
    "equation": "Ctrl-E",
    "itemize": "Ctrl-I"
   },
   "labels_anchors": false,
   "latex_user_defs": false,
   "report_style_numbering": false,
   "user_envs_cfg": false
  },
  "nteract": {
   "version": "0.12.3"
  }
 },
 "nbformat": 4,
 "nbformat_minor": 2
}
